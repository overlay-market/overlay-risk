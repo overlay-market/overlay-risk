{
 "cells": [
  {
   "cell_type": "code",
   "execution_count": 11,
   "metadata": {},
   "outputs": [
    {
     "ename": "ImportError",
     "evalue": "cannot import name 'round' from 'math' (/opt/homebrew/Cellar/python@3.9/3.9.17_1/Frameworks/Python.framework/Versions/3.9/lib/python3.9/lib-dynload/math.cpython-39-darwin.so)",
     "output_type": "error",
     "traceback": [
      "\u001b[0;31m---------------------------------------------------------------------------\u001b[0m",
      "\u001b[0;31mImportError\u001b[0m                               Traceback (most recent call last)",
      "\u001b[1;32m/Users/anantdeepparihar/Overlay/overlay-risk/scripts/risk_pipeline/risk_visualizations_for_inputs.ipynb Cell 1\u001b[0m line \u001b[0;36m2\n\u001b[1;32m      <a href='vscode-notebook-cell:/Users/anantdeepparihar/Overlay/overlay-risk/scripts/risk_pipeline/risk_visualizations_for_inputs.ipynb#W0sZmlsZQ%3D%3D?line=0'>1</a>\u001b[0m \u001b[39mimport\u001b[39;00m \u001b[39mnumpy\u001b[39;00m \u001b[39mas\u001b[39;00m \u001b[39mnp\u001b[39;00m\n\u001b[0;32m----> <a href='vscode-notebook-cell:/Users/anantdeepparihar/Overlay/overlay-risk/scripts/risk_pipeline/risk_visualizations_for_inputs.ipynb#W0sZmlsZQ%3D%3D?line=1'>2</a>\u001b[0m \u001b[39mfrom\u001b[39;00m \u001b[39mmath\u001b[39;00m \u001b[39mimport\u001b[39;00m \u001b[39mround\u001b[39m\n",
      "\u001b[0;31mImportError\u001b[0m: cannot import name 'round' from 'math' (/opt/homebrew/Cellar/python@3.9/3.9.17_1/Frameworks/Python.framework/Versions/3.9/lib/python3.9/lib-dynload/math.cpython-39-darwin.so)"
     ]
    }
   ],
   "source": [
    "import numpy as np\n",
    "from math import round"
   ]
  },
  {
   "cell_type": "code",
   "execution_count": null,
   "metadata": {},
   "outputs": [],
   "source": [
    "input_params = {\n",
    "\"k\": 115740740740,\n",
    "\"lambda\": 1490000000000000000,\n",
    "\"delta\": 7425000000000000,\n",
    "\"capPayoff\": 10000000000000000000,\n",
    "\"capNotional\": 60000000000000000000000,\n",
    "\"capLeverage\": 5000000000000000000,\n",
    "\"circuitBreakerWindow\": 2592000,\n",
    "\"circuitBreakerMintTarget\": 5000000000000000000000,\n",
    "\"maintenanceMarginFraction\": 40000000000000000,\n",
    "\"maintenanceMarginBurnRate\": 50000000000000000,\n",
    "\"liquidationFeeRate\": 50000000000000000,\n",
    "\"tradingFeeRate\": 750000000000000,\n",
    "\"minCollateral\": 100000000000000,\n",
    "\"priceDriftUpperLimit\": 87000000000000,\n",
    "\"averageBlockTime\": 0\n",
    "}"
   ]
  },
  {
   "attachments": {},
   "cell_type": "markdown",
   "metadata": {},
   "source": [
    "## Explanations for formula based features"
   ]
  },
  {
   "cell_type": "code",
   "execution_count": 12,
   "metadata": {},
   "outputs": [
    {
     "name": "stdout",
     "output_type": "stream",
     "text": [
      "\n",
      "Funding rate per day: 2.0%\n",
      "Static bid-ask spread: 1.49%\n",
      "Market Impact (for trade with size 1% of OI cap): 1.5%\n",
      "OI cap as percentage of 8mn OVL: 0.75%\n",
      "Max allowed price change of longer TWAP (3600s): 36.78%\n",
      "\n"
     ]
    }
   ],
   "source": [
    "print(f'''\n",
    "Funding rate per day: {round(input_params['k'] * 2 * 86400 * 100/1e18, 2)}%\n",
    "Static bid-ask spread: {round((np.exp(input_params['delta']/1e18) - np.exp(-input_params['delta']/1e18)) * 100, 2)}%\n",
    "Market Impact (for trade with size 1% of OI cap): {round((np.exp(input_params['lambda'] * 0.01/1e18)-1) * 100, 2)}%\n",
    "OI cap as percentage of 8mn OVL: {round(input_params['capNotional'] * 100/(1e18 * 8_000_000), 2)}%\n",
    "Max allowed price change of longer TWAP (3600s): {round((np.exp(input_params['priceDriftUpperLimit']*3600/1e18) - 1) * 100, 2)}%\n",
    "'''\n",
    ")"
   ]
  },
  {
   "cell_type": "code",
   "execution_count": null,
   "metadata": {},
   "outputs": [],
   "source": []
  }
 ],
 "metadata": {
  "kernelspec": {
   "display_name": "overlay-risk-6ApXjLbl-py3.9",
   "language": "python",
   "name": "python3"
  },
  "language_info": {
   "codemirror_mode": {
    "name": "ipython",
    "version": 3
   },
   "file_extension": ".py",
   "mimetype": "text/x-python",
   "name": "python",
   "nbconvert_exporter": "python",
   "pygments_lexer": "ipython3",
   "version": "3.9.17"
  },
  "orig_nbformat": 4
 },
 "nbformat": 4,
 "nbformat_minor": 2
}
