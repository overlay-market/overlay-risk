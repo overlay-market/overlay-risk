{
 "cells": [
  {
   "cell_type": "code",
   "execution_count": 1,
   "metadata": {},
   "outputs": [],
   "source": [
    "import numpy as np\n",
    "from math import round"
   ]
  },
  {
   "cell_type": "code",
   "execution_count": 2,
   "metadata": {},
   "outputs": [],
   "source": [
    "input_params = {\n",
    "\"k\": 115740740740,\n",
    "\"lambda\": 1490000000000000000,\n",
    "\"delta\": 7425000000000000,\n",
    "\"capPayoff\": 10000000000000000000,\n",
    "\"capNotional\": 60000000000000000000000,\n",
    "\"capLeverage\": 5000000000000000000,\n",
    "\"circuitBreakerWindow\": 2592000,\n",
    "\"circuitBreakerMintTarget\": 5000000000000000000000,\n",
    "\"maintenanceMarginFraction\": 40000000000000000,\n",
    "\"maintenanceMarginBurnRate\": 50000000000000000,\n",
    "\"liquidationFeeRate\": 50000000000000000,\n",
    "\"tradingFeeRate\": 750000000000000,\n",
    "\"minCollateral\": 100000000000000,\n",
    "\"priceDriftUpperLimit\": 87000000000000,\n",
    "\"averageBlockTime\": 0\n",
    "}"
   ]
  },
  {
   "attachments": {},
   "cell_type": "markdown",
   "metadata": {},
   "source": [
    "## Explanations for formula based features"
   ]
  },
  {
   "cell_type": "code",
   "execution_count": 10,
   "metadata": {},
   "outputs": [
    {
     "name": "stdout",
     "output_type": "stream",
     "text": [
      "\n",
      "Funding rate per day: 2.0%\n",
      "Static bid-ask spread: 1.49%\n",
      "Market Impact (for trade with size 1% of OI cap): 1.5%\n",
      "OI cap as percentage of 8mn OVL: 0.75%\n",
      "Max allowed price change of longer TWAP (3600s): 36.78%\n",
      "\n"
     ]
    }
   ],
   "source": [
    "print(f'''\n",
    "Funding rate per day: {round(input_params['k'] * 2 * 86400 * 100/1e18, 2)}%\n",
    "Static bid-ask spread: {round((np.exp(input_params['delta']/1e18) - np.exp(-input_params['delta']/1e18)) * 100, 2)}%\n",
    "Market Impact (for trade with size 1% of OI cap): {round((np.exp(input_params['lambda'] * 0.01/1e18)-1) * 100, 2)}%\n",
    "OI cap as percentage of 8mn OVL: {round(input_params['capNotional'] * 100/(1e18 * 8_000_000), 2)}%\n",
    "Max allowed price change of longer TWAP (3600s): {round((np.exp(input_params['priceDriftUpperLimit']*3600/1e18) - 1) * 100, 2)}%\n",
    "'''\n",
    ")"
   ]
  },
  {
   "cell_type": "code",
   "execution_count": null,
   "metadata": {},
   "outputs": [],
   "source": []
  }
 ],
 "metadata": {
  "kernelspec": {
   "display_name": "overlay-risk-6ApXjLbl-py3.9",
   "language": "python",
   "name": "python3"
  },
  "language_info": {
   "codemirror_mode": {
    "name": "ipython",
    "version": 3
   },
   "file_extension": ".py",
   "mimetype": "text/x-python",
   "name": "python",
   "nbconvert_exporter": "python",
   "pygments_lexer": "ipython3",
   "version": "3.9.17"
  },
  "orig_nbformat": 4
 },
 "nbformat": 4,
 "nbformat_minor": 2
}
