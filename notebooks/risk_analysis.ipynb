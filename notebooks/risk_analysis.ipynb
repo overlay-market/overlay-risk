{
 "cells": [
  {
   "cell_type": "code",
   "execution_count": 1,
   "metadata": {},
   "outputs": [],
   "source": [
    "import pandas as pd\n",
    "from Historic_Crypto import HistoricalData  # Uses coinbase pro API"
   ]
  },
  {
   "cell_type": "markdown",
   "metadata": {},
   "source": [
    "# Get Data"
   ]
  },
  {
   "cell_type": "markdown",
   "metadata": {},
   "source": [
    "Pull from Coinbase API"
   ]
  },
  {
   "cell_type": "code",
   "execution_count": null,
   "metadata": {},
   "outputs": [],
   "source": [
    "df = HistoricalData('ETH-USD', 300,'2016-06-01-00-00').retrieve_data()\n",
    "df.to_csv('csv/ETH-USD-300-20160601-20220824.csv')"
   ]
  },
  {
   "cell_type": "markdown",
   "metadata": {},
   "source": [
    "Or read from CSV"
   ]
  },
  {
   "cell_type": "code",
   "execution_count": 5,
   "metadata": {},
   "outputs": [],
   "source": [
    "df = pd.read_csv('../csv/ETH-USD-300-20160601-20220824.csv', index_col=0)"
   ]
  },
  {
   "cell_type": "code",
   "execution_count": 6,
   "metadata": {},
   "outputs": [
    {
     "data": {
      "text/html": [
       "<div>\n",
       "<style scoped>\n",
       "    .dataframe tbody tr th:only-of-type {\n",
       "        vertical-align: middle;\n",
       "    }\n",
       "\n",
       "    .dataframe tbody tr th {\n",
       "        vertical-align: top;\n",
       "    }\n",
       "\n",
       "    .dataframe thead th {\n",
       "        text-align: right;\n",
       "    }\n",
       "</style>\n",
       "<table border=\"1\" class=\"dataframe\">\n",
       "  <thead>\n",
       "    <tr style=\"text-align: right;\">\n",
       "      <th></th>\n",
       "      <th>low</th>\n",
       "      <th>high</th>\n",
       "      <th>open</th>\n",
       "      <th>close</th>\n",
       "      <th>volume</th>\n",
       "    </tr>\n",
       "    <tr>\n",
       "      <th>time</th>\n",
       "      <th></th>\n",
       "      <th></th>\n",
       "      <th></th>\n",
       "      <th></th>\n",
       "      <th></th>\n",
       "    </tr>\n",
       "  </thead>\n",
       "  <tbody>\n",
       "    <tr>\n",
       "      <th>2016-06-01 00:00:00</th>\n",
       "      <td>14.15</td>\n",
       "      <td>14.18</td>\n",
       "      <td>14.15</td>\n",
       "      <td>14.18</td>\n",
       "      <td>35.206821</td>\n",
       "    </tr>\n",
       "    <tr>\n",
       "      <th>2016-06-01 00:05:00</th>\n",
       "      <td>14.16</td>\n",
       "      <td>14.16</td>\n",
       "      <td>14.16</td>\n",
       "      <td>14.16</td>\n",
       "      <td>36.402093</td>\n",
       "    </tr>\n",
       "    <tr>\n",
       "      <th>2016-06-01 00:10:00</th>\n",
       "      <td>14.00</td>\n",
       "      <td>14.12</td>\n",
       "      <td>14.12</td>\n",
       "      <td>14.11</td>\n",
       "      <td>40.854990</td>\n",
       "    </tr>\n",
       "    <tr>\n",
       "      <th>2016-06-01 00:20:00</th>\n",
       "      <td>13.98</td>\n",
       "      <td>14.10</td>\n",
       "      <td>14.10</td>\n",
       "      <td>13.98</td>\n",
       "      <td>244.776964</td>\n",
       "    </tr>\n",
       "    <tr>\n",
       "      <th>2016-06-01 00:30:00</th>\n",
       "      <td>13.87</td>\n",
       "      <td>14.00</td>\n",
       "      <td>14.00</td>\n",
       "      <td>13.87</td>\n",
       "      <td>155.823036</td>\n",
       "    </tr>\n",
       "  </tbody>\n",
       "</table>\n",
       "</div>"
      ],
      "text/plain": [
       "                       low   high   open  close      volume\n",
       "time                                                       \n",
       "2016-06-01 00:00:00  14.15  14.18  14.15  14.18   35.206821\n",
       "2016-06-01 00:05:00  14.16  14.16  14.16  14.16   36.402093\n",
       "2016-06-01 00:10:00  14.00  14.12  14.12  14.11   40.854990\n",
       "2016-06-01 00:20:00  13.98  14.10  14.10  13.98  244.776964\n",
       "2016-06-01 00:30:00  13.87  14.00  14.00  13.87  155.823036"
      ]
     },
     "execution_count": 6,
     "metadata": {},
     "output_type": "execute_result"
    }
   ],
   "source": [
    "df.head()"
   ]
  },
  {
   "cell_type": "code",
   "execution_count": 7,
   "metadata": {},
   "outputs": [
    {
     "data": {
      "text/html": [
       "<div>\n",
       "<style scoped>\n",
       "    .dataframe tbody tr th:only-of-type {\n",
       "        vertical-align: middle;\n",
       "    }\n",
       "\n",
       "    .dataframe tbody tr th {\n",
       "        vertical-align: top;\n",
       "    }\n",
       "\n",
       "    .dataframe thead th {\n",
       "        text-align: right;\n",
       "    }\n",
       "</style>\n",
       "<table border=\"1\" class=\"dataframe\">\n",
       "  <thead>\n",
       "    <tr style=\"text-align: right;\">\n",
       "      <th></th>\n",
       "      <th>low</th>\n",
       "      <th>high</th>\n",
       "      <th>open</th>\n",
       "      <th>close</th>\n",
       "      <th>volume</th>\n",
       "    </tr>\n",
       "    <tr>\n",
       "      <th>time</th>\n",
       "      <th></th>\n",
       "      <th></th>\n",
       "      <th></th>\n",
       "      <th></th>\n",
       "      <th></th>\n",
       "    </tr>\n",
       "  </thead>\n",
       "  <tbody>\n",
       "    <tr>\n",
       "      <th>2022-08-24 09:15:00</th>\n",
       "      <td>1636.89</td>\n",
       "      <td>1640.00</td>\n",
       "      <td>1639.25</td>\n",
       "      <td>1638.76</td>\n",
       "      <td>643.336227</td>\n",
       "    </tr>\n",
       "    <tr>\n",
       "      <th>2022-08-24 09:20:00</th>\n",
       "      <td>1637.70</td>\n",
       "      <td>1642.87</td>\n",
       "      <td>1638.68</td>\n",
       "      <td>1638.30</td>\n",
       "      <td>1077.099748</td>\n",
       "    </tr>\n",
       "    <tr>\n",
       "      <th>2022-08-24 09:25:00</th>\n",
       "      <td>1635.55</td>\n",
       "      <td>1638.51</td>\n",
       "      <td>1638.22</td>\n",
       "      <td>1637.99</td>\n",
       "      <td>812.387659</td>\n",
       "    </tr>\n",
       "    <tr>\n",
       "      <th>2022-08-24 09:30:00</th>\n",
       "      <td>1634.14</td>\n",
       "      <td>1638.37</td>\n",
       "      <td>1637.97</td>\n",
       "      <td>1634.68</td>\n",
       "      <td>805.469833</td>\n",
       "    </tr>\n",
       "    <tr>\n",
       "      <th>2022-08-24 09:35:00</th>\n",
       "      <td>1632.74</td>\n",
       "      <td>1636.22</td>\n",
       "      <td>1634.65</td>\n",
       "      <td>1634.14</td>\n",
       "      <td>1098.373920</td>\n",
       "    </tr>\n",
       "  </tbody>\n",
       "</table>\n",
       "</div>"
      ],
      "text/plain": [
       "                         low     high     open    close       volume\n",
       "time                                                                \n",
       "2022-08-24 09:15:00  1636.89  1640.00  1639.25  1638.76   643.336227\n",
       "2022-08-24 09:20:00  1637.70  1642.87  1638.68  1638.30  1077.099748\n",
       "2022-08-24 09:25:00  1635.55  1638.51  1638.22  1637.99   812.387659\n",
       "2022-08-24 09:30:00  1634.14  1638.37  1637.97  1634.68   805.469833\n",
       "2022-08-24 09:35:00  1632.74  1636.22  1634.65  1634.14  1098.373920"
      ]
     },
     "execution_count": 7,
     "metadata": {},
     "output_type": "execute_result"
    }
   ],
   "source": [
    "df.tail()"
   ]
  }
 ],
 "metadata": {
  "interpreter": {
   "hash": "1ac903f3b492886493f13b56d82e4e6407fdeec32f61d56a6fa30f0c9b933cef"
  },
  "kernelspec": {
   "display_name": "Python 3.9.7 64-bit ('overlay-risk-6ApXjLbl-py3.9': poetry)",
   "language": "python",
   "name": "python3"
  },
  "language_info": {
   "codemirror_mode": {
    "name": "ipython",
    "version": 3
   },
   "file_extension": ".py",
   "mimetype": "text/x-python",
   "name": "python",
   "nbconvert_exporter": "python",
   "pygments_lexer": "ipython3",
   "version": "3.9.13"
  },
  "orig_nbformat": 4
 },
 "nbformat": 4,
 "nbformat_minor": 2
}
