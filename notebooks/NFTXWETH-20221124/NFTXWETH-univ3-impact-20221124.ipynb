{
 "cells": [
  {
   "cell_type": "code",
   "execution_count": 1,
   "id": "2322abab",
   "metadata": {},
   "outputs": [],
   "source": [
    "import pandas as pd"
   ]
  },
  {
   "cell_type": "code",
   "execution_count": 2,
   "id": "b617e733",
   "metadata": {},
   "outputs": [],
   "source": [
    "FILEPATH = \"../../csv/metrics/NFTX-WETH-10mTWAP-20210115-20210630\""
   ]
  },
  {
   "cell_type": "code",
   "execution_count": 3,
   "id": "a453bdf3",
   "metadata": {},
   "outputs": [],
   "source": [
    "FILENAME_DELTAS = f\"{FILEPATH}-deltas.csv\"\n",
    "FILENAME_LAMBDAS = f\"{FILEPATH}-lambdas.csv\""
   ]
  },
  {
   "cell_type": "code",
   "execution_count": 4,
   "id": "81e97dfe",
   "metadata": {},
   "outputs": [
    {
     "data": {
      "text/html": [
       "<div>\n",
       "<style scoped>\n",
       "    .dataframe tbody tr th:only-of-type {\n",
       "        vertical-align: middle;\n",
       "    }\n",
       "\n",
       "    .dataframe tbody tr th {\n",
       "        vertical-align: top;\n",
       "    }\n",
       "\n",
       "    .dataframe thead th {\n",
       "        text-align: right;\n",
       "    }\n",
       "</style>\n",
       "<table border=\"1\" class=\"dataframe\">\n",
       "  <thead>\n",
       "    <tr style=\"text-align: right;\">\n",
       "      <th></th>\n",
       "      <th>alpha</th>\n",
       "      <th>delta</th>\n",
       "    </tr>\n",
       "  </thead>\n",
       "  <tbody>\n",
       "    <tr>\n",
       "      <th>0</th>\n",
       "      <td>0.010</td>\n",
       "      <td>0.030742</td>\n",
       "    </tr>\n",
       "    <tr>\n",
       "      <th>1</th>\n",
       "      <td>0.025</td>\n",
       "      <td>0.012610</td>\n",
       "    </tr>\n",
       "    <tr>\n",
       "      <th>2</th>\n",
       "      <td>0.050</td>\n",
       "      <td>0.006373</td>\n",
       "    </tr>\n",
       "    <tr>\n",
       "      <th>3</th>\n",
       "      <td>0.075</td>\n",
       "      <td>0.004231</td>\n",
       "    </tr>\n",
       "    <tr>\n",
       "      <th>4</th>\n",
       "      <td>0.100</td>\n",
       "      <td>0.003136</td>\n",
       "    </tr>\n",
       "  </tbody>\n",
       "</table>\n",
       "</div>"
      ],
      "text/plain": [
       "   alpha     delta\n",
       "0  0.010  0.030742\n",
       "1  0.025  0.012610\n",
       "2  0.050  0.006373\n",
       "3  0.075  0.004231\n",
       "4  0.100  0.003136"
      ]
     },
     "execution_count": 4,
     "metadata": {},
     "output_type": "execute_result"
    }
   ],
   "source": [
    "df_deltas = pd.read_csv(FILENAME_DELTAS)\n",
    "df_deltas"
   ]
  },
  {
   "cell_type": "code",
   "execution_count": 5,
   "id": "22db932c",
   "metadata": {},
   "outputs": [
    {
     "data": {
      "text/html": [
       "<div>\n",
       "<style scoped>\n",
       "    .dataframe tbody tr th:only-of-type {\n",
       "        vertical-align: middle;\n",
       "    }\n",
       "\n",
       "    .dataframe tbody tr th {\n",
       "        vertical-align: top;\n",
       "    }\n",
       "\n",
       "    .dataframe thead th {\n",
       "        text-align: right;\n",
       "    }\n",
       "</style>\n",
       "<table border=\"1\" class=\"dataframe\">\n",
       "  <thead>\n",
       "    <tr style=\"text-align: right;\">\n",
       "      <th></th>\n",
       "      <th>Unnamed: 0</th>\n",
       "      <th>q0=0.005</th>\n",
       "      <th>q0=0.01</th>\n",
       "      <th>q0=0.015</th>\n",
       "      <th>q0=0.02</th>\n",
       "      <th>q0=0.025</th>\n",
       "      <th>q0=0.03</th>\n",
       "      <th>q0=0.035</th>\n",
       "      <th>q0=0.04</th>\n",
       "      <th>q0=0.045</th>\n",
       "      <th>q0=0.05</th>\n",
       "    </tr>\n",
       "  </thead>\n",
       "  <tbody>\n",
       "    <tr>\n",
       "      <th>0</th>\n",
       "      <td>alpha=0.01</td>\n",
       "      <td>46.074842</td>\n",
       "      <td>23.037421</td>\n",
       "      <td>15.358281</td>\n",
       "      <td>11.518710</td>\n",
       "      <td>9.214968</td>\n",
       "      <td>7.679140</td>\n",
       "      <td>6.582120</td>\n",
       "      <td>5.759355</td>\n",
       "      <td>5.119427</td>\n",
       "      <td>4.607484</td>\n",
       "    </tr>\n",
       "    <tr>\n",
       "      <th>1</th>\n",
       "      <td>alpha=0.025</td>\n",
       "      <td>20.352740</td>\n",
       "      <td>10.176370</td>\n",
       "      <td>6.784247</td>\n",
       "      <td>5.088185</td>\n",
       "      <td>4.070548</td>\n",
       "      <td>3.392123</td>\n",
       "      <td>2.907534</td>\n",
       "      <td>2.544092</td>\n",
       "      <td>2.261416</td>\n",
       "      <td>2.035274</td>\n",
       "    </tr>\n",
       "    <tr>\n",
       "      <th>2</th>\n",
       "      <td>alpha=0.05</td>\n",
       "      <td>11.027522</td>\n",
       "      <td>5.513761</td>\n",
       "      <td>3.675841</td>\n",
       "      <td>2.756880</td>\n",
       "      <td>2.205504</td>\n",
       "      <td>1.837920</td>\n",
       "      <td>1.575360</td>\n",
       "      <td>1.378440</td>\n",
       "      <td>1.225280</td>\n",
       "      <td>1.102752</td>\n",
       "    </tr>\n",
       "    <tr>\n",
       "      <th>3</th>\n",
       "      <td>alpha=0.075</td>\n",
       "      <td>7.695105</td>\n",
       "      <td>3.847553</td>\n",
       "      <td>2.565035</td>\n",
       "      <td>1.923776</td>\n",
       "      <td>1.539021</td>\n",
       "      <td>1.282518</td>\n",
       "      <td>1.099301</td>\n",
       "      <td>0.961888</td>\n",
       "      <td>0.855012</td>\n",
       "      <td>0.769511</td>\n",
       "    </tr>\n",
       "    <tr>\n",
       "      <th>4</th>\n",
       "      <td>alpha=0.1</td>\n",
       "      <td>5.957603</td>\n",
       "      <td>2.978801</td>\n",
       "      <td>1.985868</td>\n",
       "      <td>1.489401</td>\n",
       "      <td>1.191521</td>\n",
       "      <td>0.992934</td>\n",
       "      <td>0.851086</td>\n",
       "      <td>0.744700</td>\n",
       "      <td>0.661956</td>\n",
       "      <td>0.595760</td>\n",
       "    </tr>\n",
       "  </tbody>\n",
       "</table>\n",
       "</div>"
      ],
      "text/plain": [
       "    Unnamed: 0   q0=0.005    q0=0.01   q0=0.015    q0=0.02  q0=0.025  \\\n",
       "0   alpha=0.01  46.074842  23.037421  15.358281  11.518710  9.214968   \n",
       "1  alpha=0.025  20.352740  10.176370   6.784247   5.088185  4.070548   \n",
       "2   alpha=0.05  11.027522   5.513761   3.675841   2.756880  2.205504   \n",
       "3  alpha=0.075   7.695105   3.847553   2.565035   1.923776  1.539021   \n",
       "4    alpha=0.1   5.957603   2.978801   1.985868   1.489401  1.191521   \n",
       "\n",
       "    q0=0.03  q0=0.035   q0=0.04  q0=0.045   q0=0.05  \n",
       "0  7.679140  6.582120  5.759355  5.119427  4.607484  \n",
       "1  3.392123  2.907534  2.544092  2.261416  2.035274  \n",
       "2  1.837920  1.575360  1.378440  1.225280  1.102752  \n",
       "3  1.282518  1.099301  0.961888  0.855012  0.769511  \n",
       "4  0.992934  0.851086  0.744700  0.661956  0.595760  "
      ]
     },
     "execution_count": 5,
     "metadata": {},
     "output_type": "execute_result"
    }
   ],
   "source": [
    "df_lambdas = pd.read_csv(FILENAME_LAMBDAS)\n",
    "df_lambdas"
   ]
  },
  {
   "cell_type": "code",
   "execution_count": null,
   "id": "4cd18027",
   "metadata": {},
   "outputs": [],
   "source": []
  }
 ],
 "metadata": {
  "interpreter": {
   "hash": "1ac903f3b492886493f13b56d82e4e6407fdeec32f61d56a6fa30f0c9b933cef"
  },
  "kernelspec": {
   "display_name": "Python 3.9.7 64-bit ('overlay-risk-6ApXjLbl-py3.9': poetry)",
   "language": "python",
   "name": "python3"
  },
  "language_info": {
   "codemirror_mode": {
    "name": "ipython",
    "version": 3
   },
   "file_extension": ".py",
   "mimetype": "text/x-python",
   "name": "python",
   "nbconvert_exporter": "python",
   "pygments_lexer": "ipython3",
   "version": "3.9.13"
  }
 },
 "nbformat": 4,
 "nbformat_minor": 5
}
