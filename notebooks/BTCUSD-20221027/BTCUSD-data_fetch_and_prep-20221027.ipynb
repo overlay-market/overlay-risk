{
 "cells": [
  {
   "cell_type": "code",
   "execution_count": 1,
   "metadata": {},
   "outputs": [],
   "source": [
    "import pandas as pd\n",
    "from Historic_Crypto import HistoricalData  # Uses coinbase pro API\n",
    "import datetime\n",
    "import matplotlib.pyplot as plt\n",
    "import numpy as np\n",
    "import pystable"
   ]
  },
  {
   "cell_type": "markdown",
   "metadata": {},
   "source": [
    "# Get Data"
   ]
  },
  {
   "cell_type": "markdown",
   "metadata": {},
   "source": [
    "Pull from Coinbase API. Get prices from most volatile period since params should ideally be calibrated on worst episode of data."
   ]
  },
  {
   "cell_type": "code",
   "execution_count": 8,
   "metadata": {},
   "outputs": [
    {
     "name": "stdout",
     "output_type": "stream",
     "text": [
      "Checking input parameters are in the correct format.\n",
      "Formatting Dates.\n",
      "Checking if user supplied is available on the CoinBase Pro API.\n",
      "Connected to the CoinBase Pro API.\n",
      "Ticker 'BTC-USD' found at the CoinBase Pro API, continuing to extraction.\n",
      "Provisional Start: 2021-04-18T00:00:00\n",
      "Provisional End: 2021-04-19T01:00:00\n",
      "Data for chunk 1 of 72 extracted\n",
      "Provisional Start: 2021-04-19T01:00:00\n",
      "Provisional End: 2021-04-20T02:00:00\n"
     ]
    },
    {
     "name": "stderr",
     "output_type": "stream",
     "text": [
      "/Users/anantdeepparihar/Library/Caches/pypoetry/virtualenvs/overlay-risk-6ApXjLbl-py3.9/lib/python3.9/site-packages/Historic_Crypto/HistoricalData.py:176: FutureWarning: The frame.append method is deprecated and will be removed from pandas in a future version. Use pandas.concat instead.\n",
      "  data = data.append(dataset)\n"
     ]
    },
    {
     "name": "stdout",
     "output_type": "stream",
     "text": [
      "Data for chunk 2 of 72 extracted\n",
      "Provisional Start: 2021-04-20T02:00:00\n",
      "Provisional End: 2021-04-21T03:00:00\n",
      "Data for chunk 3 of 72 extracted\n",
      "Provisional Start: 2021-04-21T03:00:00\n",
      "Provisional End: 2021-04-22T04:00:00\n",
      "Data for chunk 4 of 72 extracted\n"
     ]
    },
    {
     "name": "stderr",
     "output_type": "stream",
     "text": [
      "/Users/anantdeepparihar/Library/Caches/pypoetry/virtualenvs/overlay-risk-6ApXjLbl-py3.9/lib/python3.9/site-packages/Historic_Crypto/HistoricalData.py:176: FutureWarning: The frame.append method is deprecated and will be removed from pandas in a future version. Use pandas.concat instead.\n",
      "  data = data.append(dataset)\n"
     ]
    },
    {
     "name": "stdout",
     "output_type": "stream",
     "text": [
      "Provisional Start: 2021-04-22T04:00:00\n",
      "Provisional End: 2021-04-23T05:00:00\n",
      "Data for chunk 5 of 72 extracted\n",
      "Provisional Start: 2021-04-23T05:00:00\n",
      "Provisional End: 2021-04-24T06:00:00\n"
     ]
    },
    {
     "name": "stderr",
     "output_type": "stream",
     "text": [
      "/Users/anantdeepparihar/Library/Caches/pypoetry/virtualenvs/overlay-risk-6ApXjLbl-py3.9/lib/python3.9/site-packages/Historic_Crypto/HistoricalData.py:176: FutureWarning: The frame.append method is deprecated and will be removed from pandas in a future version. Use pandas.concat instead.\n",
      "  data = data.append(dataset)\n"
     ]
    },
    {
     "name": "stdout",
     "output_type": "stream",
     "text": [
      "Data for chunk 6 of 72 extracted\n",
      "Provisional Start: 2021-04-24T06:00:00\n",
      "Provisional End: 2021-04-25T07:00:00\n"
     ]
    },
    {
     "name": "stderr",
     "output_type": "stream",
     "text": [
      "/Users/anantdeepparihar/Library/Caches/pypoetry/virtualenvs/overlay-risk-6ApXjLbl-py3.9/lib/python3.9/site-packages/Historic_Crypto/HistoricalData.py:176: FutureWarning: The frame.append method is deprecated and will be removed from pandas in a future version. Use pandas.concat instead.\n",
      "  data = data.append(dataset)\n"
     ]
    },
    {
     "name": "stdout",
     "output_type": "stream",
     "text": [
      "Data for chunk 7 of 72 extracted\n"
     ]
    },
    {
     "name": "stderr",
     "output_type": "stream",
     "text": [
      "/Users/anantdeepparihar/Library/Caches/pypoetry/virtualenvs/overlay-risk-6ApXjLbl-py3.9/lib/python3.9/site-packages/Historic_Crypto/HistoricalData.py:176: FutureWarning: The frame.append method is deprecated and will be removed from pandas in a future version. Use pandas.concat instead.\n",
      "  data = data.append(dataset)\n"
     ]
    },
    {
     "name": "stdout",
     "output_type": "stream",
     "text": [
      "Provisional Start: 2021-04-25T07:00:00\n",
      "Provisional End: 2021-04-26T08:00:00\n",
      "Data for chunk 8 of 72 extracted\n",
      "Provisional Start: 2021-04-26T08:00:00\n",
      "Provisional End: 2021-04-27T09:00:00\n"
     ]
    },
    {
     "name": "stderr",
     "output_type": "stream",
     "text": [
      "/Users/anantdeepparihar/Library/Caches/pypoetry/virtualenvs/overlay-risk-6ApXjLbl-py3.9/lib/python3.9/site-packages/Historic_Crypto/HistoricalData.py:176: FutureWarning: The frame.append method is deprecated and will be removed from pandas in a future version. Use pandas.concat instead.\n",
      "  data = data.append(dataset)\n"
     ]
    },
    {
     "name": "stdout",
     "output_type": "stream",
     "text": [
      "Data for chunk 9 of 72 extracted\n"
     ]
    },
    {
     "name": "stderr",
     "output_type": "stream",
     "text": [
      "/Users/anantdeepparihar/Library/Caches/pypoetry/virtualenvs/overlay-risk-6ApXjLbl-py3.9/lib/python3.9/site-packages/Historic_Crypto/HistoricalData.py:176: FutureWarning: The frame.append method is deprecated and will be removed from pandas in a future version. Use pandas.concat instead.\n",
      "  data = data.append(dataset)\n"
     ]
    },
    {
     "name": "stdout",
     "output_type": "stream",
     "text": [
      "Provisional Start: 2021-04-27T09:00:00\n",
      "Provisional End: 2021-04-28T10:00:00\n",
      "Data for chunk 10 of 72 extracted\n"
     ]
    },
    {
     "name": "stderr",
     "output_type": "stream",
     "text": [
      "/Users/anantdeepparihar/Library/Caches/pypoetry/virtualenvs/overlay-risk-6ApXjLbl-py3.9/lib/python3.9/site-packages/Historic_Crypto/HistoricalData.py:176: FutureWarning: The frame.append method is deprecated and will be removed from pandas in a future version. Use pandas.concat instead.\n",
      "  data = data.append(dataset)\n"
     ]
    },
    {
     "name": "stdout",
     "output_type": "stream",
     "text": [
      "Provisional Start: 2021-04-28T10:00:00\n",
      "Provisional End: 2021-04-29T11:00:00\n",
      "Data for chunk 11 of 72 extracted\n",
      "Provisional Start: 2021-04-29T11:00:00\n",
      "Provisional End: 2021-04-30T12:00:00\n"
     ]
    },
    {
     "name": "stderr",
     "output_type": "stream",
     "text": [
      "/Users/anantdeepparihar/Library/Caches/pypoetry/virtualenvs/overlay-risk-6ApXjLbl-py3.9/lib/python3.9/site-packages/Historic_Crypto/HistoricalData.py:176: FutureWarning: The frame.append method is deprecated and will be removed from pandas in a future version. Use pandas.concat instead.\n",
      "  data = data.append(dataset)\n"
     ]
    },
    {
     "name": "stdout",
     "output_type": "stream",
     "text": [
      "Data for chunk 12 of 72 extracted\n",
      "Provisional Start: 2021-04-30T12:00:00\n",
      "Provisional End: 2021-05-01T13:00:00\n"
     ]
    },
    {
     "name": "stderr",
     "output_type": "stream",
     "text": [
      "/Users/anantdeepparihar/Library/Caches/pypoetry/virtualenvs/overlay-risk-6ApXjLbl-py3.9/lib/python3.9/site-packages/Historic_Crypto/HistoricalData.py:176: FutureWarning: The frame.append method is deprecated and will be removed from pandas in a future version. Use pandas.concat instead.\n",
      "  data = data.append(dataset)\n"
     ]
    },
    {
     "name": "stdout",
     "output_type": "stream",
     "text": [
      "Data for chunk 13 of 72 extracted\n"
     ]
    },
    {
     "name": "stderr",
     "output_type": "stream",
     "text": [
      "/Users/anantdeepparihar/Library/Caches/pypoetry/virtualenvs/overlay-risk-6ApXjLbl-py3.9/lib/python3.9/site-packages/Historic_Crypto/HistoricalData.py:176: FutureWarning: The frame.append method is deprecated and will be removed from pandas in a future version. Use pandas.concat instead.\n",
      "  data = data.append(dataset)\n"
     ]
    },
    {
     "name": "stdout",
     "output_type": "stream",
     "text": [
      "Provisional Start: 2021-05-01T13:00:00\n",
      "Provisional End: 2021-05-02T14:00:00\n",
      "Data for chunk 14 of 72 extracted\n"
     ]
    },
    {
     "name": "stderr",
     "output_type": "stream",
     "text": [
      "/Users/anantdeepparihar/Library/Caches/pypoetry/virtualenvs/overlay-risk-6ApXjLbl-py3.9/lib/python3.9/site-packages/Historic_Crypto/HistoricalData.py:176: FutureWarning: The frame.append method is deprecated and will be removed from pandas in a future version. Use pandas.concat instead.\n",
      "  data = data.append(dataset)\n"
     ]
    },
    {
     "name": "stdout",
     "output_type": "stream",
     "text": [
      "Provisional Start: 2021-05-02T14:00:00\n",
      "Provisional End: 2021-05-03T15:00:00\n",
      "Data for chunk 15 of 72 extracted\n",
      "Provisional Start: 2021-05-03T15:00:00\n",
      "Provisional End: 2021-05-04T16:00:00\n"
     ]
    },
    {
     "name": "stderr",
     "output_type": "stream",
     "text": [
      "/Users/anantdeepparihar/Library/Caches/pypoetry/virtualenvs/overlay-risk-6ApXjLbl-py3.9/lib/python3.9/site-packages/Historic_Crypto/HistoricalData.py:176: FutureWarning: The frame.append method is deprecated and will be removed from pandas in a future version. Use pandas.concat instead.\n",
      "  data = data.append(dataset)\n"
     ]
    },
    {
     "name": "stdout",
     "output_type": "stream",
     "text": [
      "Data for chunk 16 of 72 extracted\n"
     ]
    },
    {
     "name": "stderr",
     "output_type": "stream",
     "text": [
      "/Users/anantdeepparihar/Library/Caches/pypoetry/virtualenvs/overlay-risk-6ApXjLbl-py3.9/lib/python3.9/site-packages/Historic_Crypto/HistoricalData.py:176: FutureWarning: The frame.append method is deprecated and will be removed from pandas in a future version. Use pandas.concat instead.\n",
      "  data = data.append(dataset)\n"
     ]
    },
    {
     "name": "stdout",
     "output_type": "stream",
     "text": [
      "Provisional Start: 2021-05-04T16:00:00\n",
      "Provisional End: 2021-05-05T17:00:00\n",
      "Data for chunk 17 of 72 extracted\n"
     ]
    },
    {
     "name": "stderr",
     "output_type": "stream",
     "text": [
      "/Users/anantdeepparihar/Library/Caches/pypoetry/virtualenvs/overlay-risk-6ApXjLbl-py3.9/lib/python3.9/site-packages/Historic_Crypto/HistoricalData.py:176: FutureWarning: The frame.append method is deprecated and will be removed from pandas in a future version. Use pandas.concat instead.\n",
      "  data = data.append(dataset)\n"
     ]
    },
    {
     "name": "stdout",
     "output_type": "stream",
     "text": [
      "Provisional Start: 2021-05-05T17:00:00\n",
      "Provisional End: 2021-05-06T18:00:00\n",
      "Data for chunk 18 of 72 extracted\n"
     ]
    },
    {
     "name": "stderr",
     "output_type": "stream",
     "text": [
      "/Users/anantdeepparihar/Library/Caches/pypoetry/virtualenvs/overlay-risk-6ApXjLbl-py3.9/lib/python3.9/site-packages/Historic_Crypto/HistoricalData.py:176: FutureWarning: The frame.append method is deprecated and will be removed from pandas in a future version. Use pandas.concat instead.\n",
      "  data = data.append(dataset)\n"
     ]
    },
    {
     "name": "stdout",
     "output_type": "stream",
     "text": [
      "Provisional Start: 2021-05-06T18:00:00\n",
      "Provisional End: 2021-05-07T19:00:00\n",
      "Data for chunk 19 of 72 extracted\n"
     ]
    },
    {
     "name": "stderr",
     "output_type": "stream",
     "text": [
      "/Users/anantdeepparihar/Library/Caches/pypoetry/virtualenvs/overlay-risk-6ApXjLbl-py3.9/lib/python3.9/site-packages/Historic_Crypto/HistoricalData.py:176: FutureWarning: The frame.append method is deprecated and will be removed from pandas in a future version. Use pandas.concat instead.\n",
      "  data = data.append(dataset)\n"
     ]
    },
    {
     "name": "stdout",
     "output_type": "stream",
     "text": [
      "Provisional Start: 2021-05-07T19:00:00\n",
      "Provisional End: 2021-05-08T20:00:00\n",
      "Data for chunk 20 of 72 extracted\n"
     ]
    },
    {
     "name": "stderr",
     "output_type": "stream",
     "text": [
      "/Users/anantdeepparihar/Library/Caches/pypoetry/virtualenvs/overlay-risk-6ApXjLbl-py3.9/lib/python3.9/site-packages/Historic_Crypto/HistoricalData.py:176: FutureWarning: The frame.append method is deprecated and will be removed from pandas in a future version. Use pandas.concat instead.\n",
      "  data = data.append(dataset)\n"
     ]
    },
    {
     "name": "stdout",
     "output_type": "stream",
     "text": [
      "Provisional Start: 2021-05-08T20:00:00\n",
      "Provisional End: 2021-05-09T21:00:00\n",
      "Data for chunk 21 of 72 extracted\n"
     ]
    },
    {
     "name": "stderr",
     "output_type": "stream",
     "text": [
      "/Users/anantdeepparihar/Library/Caches/pypoetry/virtualenvs/overlay-risk-6ApXjLbl-py3.9/lib/python3.9/site-packages/Historic_Crypto/HistoricalData.py:176: FutureWarning: The frame.append method is deprecated and will be removed from pandas in a future version. Use pandas.concat instead.\n",
      "  data = data.append(dataset)\n"
     ]
    },
    {
     "name": "stdout",
     "output_type": "stream",
     "text": [
      "Provisional Start: 2021-05-09T21:00:00\n",
      "Provisional End: 2021-05-10T22:00:00\n",
      "Data for chunk 22 of 72 extracted\n",
      "Provisional Start: 2021-05-10T22:00:00\n",
      "Provisional End: 2021-05-11T23:00:00\n"
     ]
    },
    {
     "name": "stderr",
     "output_type": "stream",
     "text": [
      "/Users/anantdeepparihar/Library/Caches/pypoetry/virtualenvs/overlay-risk-6ApXjLbl-py3.9/lib/python3.9/site-packages/Historic_Crypto/HistoricalData.py:176: FutureWarning: The frame.append method is deprecated and will be removed from pandas in a future version. Use pandas.concat instead.\n",
      "  data = data.append(dataset)\n"
     ]
    },
    {
     "name": "stdout",
     "output_type": "stream",
     "text": [
      "Data for chunk 23 of 72 extracted\n"
     ]
    },
    {
     "name": "stderr",
     "output_type": "stream",
     "text": [
      "/Users/anantdeepparihar/Library/Caches/pypoetry/virtualenvs/overlay-risk-6ApXjLbl-py3.9/lib/python3.9/site-packages/Historic_Crypto/HistoricalData.py:176: FutureWarning: The frame.append method is deprecated and will be removed from pandas in a future version. Use pandas.concat instead.\n",
      "  data = data.append(dataset)\n"
     ]
    },
    {
     "name": "stdout",
     "output_type": "stream",
     "text": [
      "Provisional Start: 2021-05-11T23:00:00\n",
      "Provisional End: 2021-05-13T00:00:00\n",
      "Data for chunk 24 of 72 extracted\n"
     ]
    },
    {
     "name": "stderr",
     "output_type": "stream",
     "text": [
      "/Users/anantdeepparihar/Library/Caches/pypoetry/virtualenvs/overlay-risk-6ApXjLbl-py3.9/lib/python3.9/site-packages/Historic_Crypto/HistoricalData.py:176: FutureWarning: The frame.append method is deprecated and will be removed from pandas in a future version. Use pandas.concat instead.\n",
      "  data = data.append(dataset)\n"
     ]
    },
    {
     "name": "stdout",
     "output_type": "stream",
     "text": [
      "Provisional Start: 2021-05-13T00:00:00\n",
      "Provisional End: 2021-05-14T01:00:00\n",
      "Data for chunk 25 of 72 extracted\n"
     ]
    },
    {
     "name": "stderr",
     "output_type": "stream",
     "text": [
      "/Users/anantdeepparihar/Library/Caches/pypoetry/virtualenvs/overlay-risk-6ApXjLbl-py3.9/lib/python3.9/site-packages/Historic_Crypto/HistoricalData.py:176: FutureWarning: The frame.append method is deprecated and will be removed from pandas in a future version. Use pandas.concat instead.\n",
      "  data = data.append(dataset)\n"
     ]
    },
    {
     "name": "stdout",
     "output_type": "stream",
     "text": [
      "Provisional Start: 2021-05-14T01:00:00\n",
      "Provisional End: 2021-05-15T02:00:00\n",
      "Data for chunk 26 of 72 extracted\n"
     ]
    },
    {
     "name": "stderr",
     "output_type": "stream",
     "text": [
      "/Users/anantdeepparihar/Library/Caches/pypoetry/virtualenvs/overlay-risk-6ApXjLbl-py3.9/lib/python3.9/site-packages/Historic_Crypto/HistoricalData.py:176: FutureWarning: The frame.append method is deprecated and will be removed from pandas in a future version. Use pandas.concat instead.\n",
      "  data = data.append(dataset)\n"
     ]
    },
    {
     "name": "stdout",
     "output_type": "stream",
     "text": [
      "Provisional Start: 2021-05-15T02:00:00\n",
      "Provisional End: 2021-05-16T03:00:00\n",
      "Data for chunk 27 of 72 extracted\n"
     ]
    },
    {
     "name": "stderr",
     "output_type": "stream",
     "text": [
      "/Users/anantdeepparihar/Library/Caches/pypoetry/virtualenvs/overlay-risk-6ApXjLbl-py3.9/lib/python3.9/site-packages/Historic_Crypto/HistoricalData.py:176: FutureWarning: The frame.append method is deprecated and will be removed from pandas in a future version. Use pandas.concat instead.\n",
      "  data = data.append(dataset)\n"
     ]
    },
    {
     "name": "stdout",
     "output_type": "stream",
     "text": [
      "Provisional Start: 2021-05-16T03:00:00\n",
      "Provisional End: 2021-05-17T04:00:00\n",
      "Data for chunk 28 of 72 extracted\n",
      "Provisional Start: 2021-05-17T04:00:00\n",
      "Provisional End: 2021-05-18T05:00:00\n"
     ]
    },
    {
     "name": "stderr",
     "output_type": "stream",
     "text": [
      "/Users/anantdeepparihar/Library/Caches/pypoetry/virtualenvs/overlay-risk-6ApXjLbl-py3.9/lib/python3.9/site-packages/Historic_Crypto/HistoricalData.py:176: FutureWarning: The frame.append method is deprecated and will be removed from pandas in a future version. Use pandas.concat instead.\n",
      "  data = data.append(dataset)\n"
     ]
    },
    {
     "name": "stdout",
     "output_type": "stream",
     "text": [
      "Data for chunk 29 of 72 extracted\n"
     ]
    },
    {
     "name": "stderr",
     "output_type": "stream",
     "text": [
      "/Users/anantdeepparihar/Library/Caches/pypoetry/virtualenvs/overlay-risk-6ApXjLbl-py3.9/lib/python3.9/site-packages/Historic_Crypto/HistoricalData.py:176: FutureWarning: The frame.append method is deprecated and will be removed from pandas in a future version. Use pandas.concat instead.\n",
      "  data = data.append(dataset)\n"
     ]
    },
    {
     "name": "stdout",
     "output_type": "stream",
     "text": [
      "Provisional Start: 2021-05-18T05:00:00\n",
      "Provisional End: 2021-05-19T06:00:00\n",
      "Data for chunk 30 of 72 extracted\n",
      "Provisional Start: 2021-05-19T06:00:00\n",
      "Provisional End: 2021-05-20T07:00:00\n"
     ]
    },
    {
     "name": "stderr",
     "output_type": "stream",
     "text": [
      "/Users/anantdeepparihar/Library/Caches/pypoetry/virtualenvs/overlay-risk-6ApXjLbl-py3.9/lib/python3.9/site-packages/Historic_Crypto/HistoricalData.py:176: FutureWarning: The frame.append method is deprecated and will be removed from pandas in a future version. Use pandas.concat instead.\n",
      "  data = data.append(dataset)\n"
     ]
    },
    {
     "name": "stdout",
     "output_type": "stream",
     "text": [
      "Data for chunk 31 of 72 extracted\n",
      "Provisional Start: 2021-05-20T07:00:00\n",
      "Provisional End: 2021-05-21T08:00:00\n"
     ]
    },
    {
     "name": "stderr",
     "output_type": "stream",
     "text": [
      "/Users/anantdeepparihar/Library/Caches/pypoetry/virtualenvs/overlay-risk-6ApXjLbl-py3.9/lib/python3.9/site-packages/Historic_Crypto/HistoricalData.py:176: FutureWarning: The frame.append method is deprecated and will be removed from pandas in a future version. Use pandas.concat instead.\n",
      "  data = data.append(dataset)\n"
     ]
    },
    {
     "name": "stdout",
     "output_type": "stream",
     "text": [
      "Data for chunk 32 of 72 extracted\n"
     ]
    },
    {
     "name": "stderr",
     "output_type": "stream",
     "text": [
      "/Users/anantdeepparihar/Library/Caches/pypoetry/virtualenvs/overlay-risk-6ApXjLbl-py3.9/lib/python3.9/site-packages/Historic_Crypto/HistoricalData.py:176: FutureWarning: The frame.append method is deprecated and will be removed from pandas in a future version. Use pandas.concat instead.\n",
      "  data = data.append(dataset)\n"
     ]
    },
    {
     "name": "stdout",
     "output_type": "stream",
     "text": [
      "Provisional Start: 2021-05-21T08:00:00\n",
      "Provisional End: 2021-05-22T09:00:00\n",
      "Data for chunk 33 of 72 extracted\n",
      "Provisional Start: 2021-05-22T09:00:00\n",
      "Provisional End: 2021-05-23T10:00:00\n"
     ]
    },
    {
     "name": "stderr",
     "output_type": "stream",
     "text": [
      "/Users/anantdeepparihar/Library/Caches/pypoetry/virtualenvs/overlay-risk-6ApXjLbl-py3.9/lib/python3.9/site-packages/Historic_Crypto/HistoricalData.py:176: FutureWarning: The frame.append method is deprecated and will be removed from pandas in a future version. Use pandas.concat instead.\n",
      "  data = data.append(dataset)\n"
     ]
    },
    {
     "name": "stdout",
     "output_type": "stream",
     "text": [
      "Data for chunk 34 of 72 extracted\n"
     ]
    },
    {
     "name": "stderr",
     "output_type": "stream",
     "text": [
      "/Users/anantdeepparihar/Library/Caches/pypoetry/virtualenvs/overlay-risk-6ApXjLbl-py3.9/lib/python3.9/site-packages/Historic_Crypto/HistoricalData.py:176: FutureWarning: The frame.append method is deprecated and will be removed from pandas in a future version. Use pandas.concat instead.\n",
      "  data = data.append(dataset)\n"
     ]
    },
    {
     "name": "stdout",
     "output_type": "stream",
     "text": [
      "Provisional Start: 2021-05-23T10:00:00\n",
      "Provisional End: 2021-05-24T11:00:00\n",
      "Data for chunk 35 of 72 extracted\n"
     ]
    },
    {
     "name": "stderr",
     "output_type": "stream",
     "text": [
      "/Users/anantdeepparihar/Library/Caches/pypoetry/virtualenvs/overlay-risk-6ApXjLbl-py3.9/lib/python3.9/site-packages/Historic_Crypto/HistoricalData.py:176: FutureWarning: The frame.append method is deprecated and will be removed from pandas in a future version. Use pandas.concat instead.\n",
      "  data = data.append(dataset)\n"
     ]
    },
    {
     "name": "stdout",
     "output_type": "stream",
     "text": [
      "Provisional Start: 2021-05-24T11:00:00\n",
      "Provisional End: 2021-05-25T12:00:00\n",
      "Data for chunk 36 of 72 extracted\n"
     ]
    },
    {
     "name": "stderr",
     "output_type": "stream",
     "text": [
      "/Users/anantdeepparihar/Library/Caches/pypoetry/virtualenvs/overlay-risk-6ApXjLbl-py3.9/lib/python3.9/site-packages/Historic_Crypto/HistoricalData.py:176: FutureWarning: The frame.append method is deprecated and will be removed from pandas in a future version. Use pandas.concat instead.\n",
      "  data = data.append(dataset)\n"
     ]
    },
    {
     "name": "stdout",
     "output_type": "stream",
     "text": [
      "Provisional Start: 2021-05-25T12:00:00\n",
      "Provisional End: 2021-05-26T13:00:00\n",
      "Data for chunk 37 of 72 extracted\n"
     ]
    },
    {
     "name": "stderr",
     "output_type": "stream",
     "text": [
      "/Users/anantdeepparihar/Library/Caches/pypoetry/virtualenvs/overlay-risk-6ApXjLbl-py3.9/lib/python3.9/site-packages/Historic_Crypto/HistoricalData.py:176: FutureWarning: The frame.append method is deprecated and will be removed from pandas in a future version. Use pandas.concat instead.\n",
      "  data = data.append(dataset)\n"
     ]
    },
    {
     "name": "stdout",
     "output_type": "stream",
     "text": [
      "Provisional Start: 2021-05-26T13:00:00\n",
      "Provisional End: 2021-05-27T14:00:00\n",
      "Data for chunk 38 of 72 extracted\n"
     ]
    },
    {
     "name": "stderr",
     "output_type": "stream",
     "text": [
      "/Users/anantdeepparihar/Library/Caches/pypoetry/virtualenvs/overlay-risk-6ApXjLbl-py3.9/lib/python3.9/site-packages/Historic_Crypto/HistoricalData.py:176: FutureWarning: The frame.append method is deprecated and will be removed from pandas in a future version. Use pandas.concat instead.\n",
      "  data = data.append(dataset)\n"
     ]
    },
    {
     "name": "stdout",
     "output_type": "stream",
     "text": [
      "Provisional Start: 2021-05-27T14:00:00\n",
      "Provisional End: 2021-05-28T15:00:00\n",
      "Data for chunk 39 of 72 extracted\n"
     ]
    },
    {
     "name": "stderr",
     "output_type": "stream",
     "text": [
      "/Users/anantdeepparihar/Library/Caches/pypoetry/virtualenvs/overlay-risk-6ApXjLbl-py3.9/lib/python3.9/site-packages/Historic_Crypto/HistoricalData.py:176: FutureWarning: The frame.append method is deprecated and will be removed from pandas in a future version. Use pandas.concat instead.\n",
      "  data = data.append(dataset)\n"
     ]
    },
    {
     "name": "stdout",
     "output_type": "stream",
     "text": [
      "Provisional Start: 2021-05-28T15:00:00\n",
      "Provisional End: 2021-05-29T16:00:00\n",
      "Data for chunk 40 of 72 extracted\n"
     ]
    },
    {
     "name": "stderr",
     "output_type": "stream",
     "text": [
      "/Users/anantdeepparihar/Library/Caches/pypoetry/virtualenvs/overlay-risk-6ApXjLbl-py3.9/lib/python3.9/site-packages/Historic_Crypto/HistoricalData.py:176: FutureWarning: The frame.append method is deprecated and will be removed from pandas in a future version. Use pandas.concat instead.\n",
      "  data = data.append(dataset)\n"
     ]
    },
    {
     "name": "stdout",
     "output_type": "stream",
     "text": [
      "Provisional Start: 2021-05-29T16:00:00\n",
      "Provisional End: 2021-05-30T17:00:00\n",
      "Data for chunk 41 of 72 extracted\n"
     ]
    },
    {
     "name": "stderr",
     "output_type": "stream",
     "text": [
      "/Users/anantdeepparihar/Library/Caches/pypoetry/virtualenvs/overlay-risk-6ApXjLbl-py3.9/lib/python3.9/site-packages/Historic_Crypto/HistoricalData.py:176: FutureWarning: The frame.append method is deprecated and will be removed from pandas in a future version. Use pandas.concat instead.\n",
      "  data = data.append(dataset)\n"
     ]
    },
    {
     "name": "stdout",
     "output_type": "stream",
     "text": [
      "Provisional Start: 2021-05-30T17:00:00\n",
      "Provisional End: 2021-05-31T18:00:00\n",
      "Data for chunk 42 of 72 extracted\n"
     ]
    },
    {
     "name": "stderr",
     "output_type": "stream",
     "text": [
      "/Users/anantdeepparihar/Library/Caches/pypoetry/virtualenvs/overlay-risk-6ApXjLbl-py3.9/lib/python3.9/site-packages/Historic_Crypto/HistoricalData.py:176: FutureWarning: The frame.append method is deprecated and will be removed from pandas in a future version. Use pandas.concat instead.\n",
      "  data = data.append(dataset)\n"
     ]
    },
    {
     "name": "stdout",
     "output_type": "stream",
     "text": [
      "Provisional Start: 2021-05-31T18:00:00\n",
      "Provisional End: 2021-06-01T19:00:00\n",
      "Data for chunk 43 of 72 extracted\n"
     ]
    },
    {
     "name": "stderr",
     "output_type": "stream",
     "text": [
      "/Users/anantdeepparihar/Library/Caches/pypoetry/virtualenvs/overlay-risk-6ApXjLbl-py3.9/lib/python3.9/site-packages/Historic_Crypto/HistoricalData.py:176: FutureWarning: The frame.append method is deprecated and will be removed from pandas in a future version. Use pandas.concat instead.\n",
      "  data = data.append(dataset)\n"
     ]
    },
    {
     "name": "stdout",
     "output_type": "stream",
     "text": [
      "Provisional Start: 2021-06-01T19:00:00\n",
      "Provisional End: 2021-06-02T20:00:00\n",
      "Data for chunk 44 of 72 extracted\n",
      "Provisional Start: 2021-06-02T20:00:00\n",
      "Provisional End: 2021-06-03T21:00:00\n"
     ]
    },
    {
     "name": "stderr",
     "output_type": "stream",
     "text": [
      "/Users/anantdeepparihar/Library/Caches/pypoetry/virtualenvs/overlay-risk-6ApXjLbl-py3.9/lib/python3.9/site-packages/Historic_Crypto/HistoricalData.py:176: FutureWarning: The frame.append method is deprecated and will be removed from pandas in a future version. Use pandas.concat instead.\n",
      "  data = data.append(dataset)\n"
     ]
    },
    {
     "name": "stdout",
     "output_type": "stream",
     "text": [
      "Data for chunk 45 of 72 extracted\n"
     ]
    },
    {
     "name": "stderr",
     "output_type": "stream",
     "text": [
      "/Users/anantdeepparihar/Library/Caches/pypoetry/virtualenvs/overlay-risk-6ApXjLbl-py3.9/lib/python3.9/site-packages/Historic_Crypto/HistoricalData.py:176: FutureWarning: The frame.append method is deprecated and will be removed from pandas in a future version. Use pandas.concat instead.\n",
      "  data = data.append(dataset)\n"
     ]
    },
    {
     "name": "stdout",
     "output_type": "stream",
     "text": [
      "Provisional Start: 2021-06-03T21:00:00\n",
      "Provisional End: 2021-06-04T22:00:00\n",
      "Data for chunk 46 of 72 extracted\n",
      "Provisional Start: 2021-06-04T22:00:00\n",
      "Provisional End: 2021-06-05T23:00:00\n"
     ]
    },
    {
     "name": "stderr",
     "output_type": "stream",
     "text": [
      "/Users/anantdeepparihar/Library/Caches/pypoetry/virtualenvs/overlay-risk-6ApXjLbl-py3.9/lib/python3.9/site-packages/Historic_Crypto/HistoricalData.py:176: FutureWarning: The frame.append method is deprecated and will be removed from pandas in a future version. Use pandas.concat instead.\n",
      "  data = data.append(dataset)\n"
     ]
    },
    {
     "name": "stdout",
     "output_type": "stream",
     "text": [
      "Data for chunk 47 of 72 extracted\n",
      "Provisional Start: 2021-06-05T23:00:00\n",
      "Provisional End: 2021-06-07T00:00:00\n"
     ]
    },
    {
     "name": "stderr",
     "output_type": "stream",
     "text": [
      "/Users/anantdeepparihar/Library/Caches/pypoetry/virtualenvs/overlay-risk-6ApXjLbl-py3.9/lib/python3.9/site-packages/Historic_Crypto/HistoricalData.py:176: FutureWarning: The frame.append method is deprecated and will be removed from pandas in a future version. Use pandas.concat instead.\n",
      "  data = data.append(dataset)\n"
     ]
    },
    {
     "name": "stdout",
     "output_type": "stream",
     "text": [
      "Data for chunk 48 of 72 extracted\n"
     ]
    },
    {
     "name": "stderr",
     "output_type": "stream",
     "text": [
      "/Users/anantdeepparihar/Library/Caches/pypoetry/virtualenvs/overlay-risk-6ApXjLbl-py3.9/lib/python3.9/site-packages/Historic_Crypto/HistoricalData.py:176: FutureWarning: The frame.append method is deprecated and will be removed from pandas in a future version. Use pandas.concat instead.\n",
      "  data = data.append(dataset)\n"
     ]
    },
    {
     "name": "stdout",
     "output_type": "stream",
     "text": [
      "Provisional Start: 2021-06-07T00:00:00\n",
      "Provisional End: 2021-06-08T01:00:00\n",
      "Data for chunk 49 of 72 extracted\n"
     ]
    },
    {
     "name": "stderr",
     "output_type": "stream",
     "text": [
      "/Users/anantdeepparihar/Library/Caches/pypoetry/virtualenvs/overlay-risk-6ApXjLbl-py3.9/lib/python3.9/site-packages/Historic_Crypto/HistoricalData.py:176: FutureWarning: The frame.append method is deprecated and will be removed from pandas in a future version. Use pandas.concat instead.\n",
      "  data = data.append(dataset)\n"
     ]
    },
    {
     "name": "stdout",
     "output_type": "stream",
     "text": [
      "Provisional Start: 2021-06-08T01:00:00\n",
      "Provisional End: 2021-06-09T02:00:00\n",
      "Data for chunk 50 of 72 extracted\n"
     ]
    },
    {
     "name": "stderr",
     "output_type": "stream",
     "text": [
      "/Users/anantdeepparihar/Library/Caches/pypoetry/virtualenvs/overlay-risk-6ApXjLbl-py3.9/lib/python3.9/site-packages/Historic_Crypto/HistoricalData.py:176: FutureWarning: The frame.append method is deprecated and will be removed from pandas in a future version. Use pandas.concat instead.\n",
      "  data = data.append(dataset)\n"
     ]
    },
    {
     "name": "stdout",
     "output_type": "stream",
     "text": [
      "Provisional Start: 2021-06-09T02:00:00\n",
      "Provisional End: 2021-06-10T03:00:00\n",
      "Data for chunk 51 of 72 extracted\n"
     ]
    },
    {
     "name": "stderr",
     "output_type": "stream",
     "text": [
      "/Users/anantdeepparihar/Library/Caches/pypoetry/virtualenvs/overlay-risk-6ApXjLbl-py3.9/lib/python3.9/site-packages/Historic_Crypto/HistoricalData.py:176: FutureWarning: The frame.append method is deprecated and will be removed from pandas in a future version. Use pandas.concat instead.\n",
      "  data = data.append(dataset)\n"
     ]
    },
    {
     "name": "stdout",
     "output_type": "stream",
     "text": [
      "Provisional Start: 2021-06-10T03:00:00\n",
      "Provisional End: 2021-06-11T04:00:00\n",
      "Data for chunk 52 of 72 extracted\n",
      "Provisional Start: 2021-06-11T04:00:00\n",
      "Provisional End: 2021-06-12T05:00:00\n"
     ]
    },
    {
     "name": "stderr",
     "output_type": "stream",
     "text": [
      "/Users/anantdeepparihar/Library/Caches/pypoetry/virtualenvs/overlay-risk-6ApXjLbl-py3.9/lib/python3.9/site-packages/Historic_Crypto/HistoricalData.py:176: FutureWarning: The frame.append method is deprecated and will be removed from pandas in a future version. Use pandas.concat instead.\n",
      "  data = data.append(dataset)\n"
     ]
    },
    {
     "name": "stdout",
     "output_type": "stream",
     "text": [
      "Data for chunk 53 of 72 extracted\n"
     ]
    },
    {
     "name": "stderr",
     "output_type": "stream",
     "text": [
      "/Users/anantdeepparihar/Library/Caches/pypoetry/virtualenvs/overlay-risk-6ApXjLbl-py3.9/lib/python3.9/site-packages/Historic_Crypto/HistoricalData.py:176: FutureWarning: The frame.append method is deprecated and will be removed from pandas in a future version. Use pandas.concat instead.\n",
      "  data = data.append(dataset)\n"
     ]
    },
    {
     "name": "stdout",
     "output_type": "stream",
     "text": [
      "Provisional Start: 2021-06-12T05:00:00\n",
      "Provisional End: 2021-06-13T06:00:00\n",
      "Data for chunk 54 of 72 extracted\n"
     ]
    },
    {
     "name": "stderr",
     "output_type": "stream",
     "text": [
      "/Users/anantdeepparihar/Library/Caches/pypoetry/virtualenvs/overlay-risk-6ApXjLbl-py3.9/lib/python3.9/site-packages/Historic_Crypto/HistoricalData.py:176: FutureWarning: The frame.append method is deprecated and will be removed from pandas in a future version. Use pandas.concat instead.\n",
      "  data = data.append(dataset)\n"
     ]
    },
    {
     "name": "stdout",
     "output_type": "stream",
     "text": [
      "Provisional Start: 2021-06-13T06:00:00\n",
      "Provisional End: 2021-06-14T07:00:00\n",
      "Data for chunk 55 of 72 extracted\n"
     ]
    },
    {
     "name": "stderr",
     "output_type": "stream",
     "text": [
      "/Users/anantdeepparihar/Library/Caches/pypoetry/virtualenvs/overlay-risk-6ApXjLbl-py3.9/lib/python3.9/site-packages/Historic_Crypto/HistoricalData.py:176: FutureWarning: The frame.append method is deprecated and will be removed from pandas in a future version. Use pandas.concat instead.\n",
      "  data = data.append(dataset)\n"
     ]
    },
    {
     "name": "stdout",
     "output_type": "stream",
     "text": [
      "Provisional Start: 2021-06-14T07:00:00\n",
      "Provisional End: 2021-06-15T08:00:00\n",
      "Data for chunk 56 of 72 extracted\n",
      "Provisional Start: 2021-06-15T08:00:00\n",
      "Provisional End: 2021-06-16T09:00:00\n"
     ]
    },
    {
     "name": "stderr",
     "output_type": "stream",
     "text": [
      "/Users/anantdeepparihar/Library/Caches/pypoetry/virtualenvs/overlay-risk-6ApXjLbl-py3.9/lib/python3.9/site-packages/Historic_Crypto/HistoricalData.py:176: FutureWarning: The frame.append method is deprecated and will be removed from pandas in a future version. Use pandas.concat instead.\n",
      "  data = data.append(dataset)\n"
     ]
    },
    {
     "name": "stdout",
     "output_type": "stream",
     "text": [
      "Data for chunk 57 of 72 extracted\n"
     ]
    },
    {
     "name": "stderr",
     "output_type": "stream",
     "text": [
      "/Users/anantdeepparihar/Library/Caches/pypoetry/virtualenvs/overlay-risk-6ApXjLbl-py3.9/lib/python3.9/site-packages/Historic_Crypto/HistoricalData.py:176: FutureWarning: The frame.append method is deprecated and will be removed from pandas in a future version. Use pandas.concat instead.\n",
      "  data = data.append(dataset)\n"
     ]
    },
    {
     "name": "stdout",
     "output_type": "stream",
     "text": [
      "Provisional Start: 2021-06-16T09:00:00\n",
      "Provisional End: 2021-06-17T10:00:00\n",
      "Data for chunk 58 of 72 extracted\n",
      "Provisional Start: 2021-06-17T10:00:00\n",
      "Provisional End: 2021-06-18T11:00:00\n"
     ]
    },
    {
     "name": "stderr",
     "output_type": "stream",
     "text": [
      "/Users/anantdeepparihar/Library/Caches/pypoetry/virtualenvs/overlay-risk-6ApXjLbl-py3.9/lib/python3.9/site-packages/Historic_Crypto/HistoricalData.py:176: FutureWarning: The frame.append method is deprecated and will be removed from pandas in a future version. Use pandas.concat instead.\n",
      "  data = data.append(dataset)\n"
     ]
    },
    {
     "name": "stdout",
     "output_type": "stream",
     "text": [
      "Data for chunk 59 of 72 extracted\n",
      "Provisional Start: 2021-06-18T11:00:00\n",
      "Provisional End: 2021-06-19T12:00:00\n"
     ]
    },
    {
     "name": "stderr",
     "output_type": "stream",
     "text": [
      "/Users/anantdeepparihar/Library/Caches/pypoetry/virtualenvs/overlay-risk-6ApXjLbl-py3.9/lib/python3.9/site-packages/Historic_Crypto/HistoricalData.py:176: FutureWarning: The frame.append method is deprecated and will be removed from pandas in a future version. Use pandas.concat instead.\n",
      "  data = data.append(dataset)\n"
     ]
    },
    {
     "name": "stdout",
     "output_type": "stream",
     "text": [
      "Data for chunk 60 of 72 extracted\n",
      "Provisional Start: 2021-06-19T12:00:00\n",
      "Provisional End: 2021-06-20T13:00:00\n"
     ]
    },
    {
     "name": "stderr",
     "output_type": "stream",
     "text": [
      "/Users/anantdeepparihar/Library/Caches/pypoetry/virtualenvs/overlay-risk-6ApXjLbl-py3.9/lib/python3.9/site-packages/Historic_Crypto/HistoricalData.py:176: FutureWarning: The frame.append method is deprecated and will be removed from pandas in a future version. Use pandas.concat instead.\n",
      "  data = data.append(dataset)\n"
     ]
    },
    {
     "name": "stdout",
     "output_type": "stream",
     "text": [
      "Data for chunk 61 of 72 extracted\n"
     ]
    },
    {
     "name": "stderr",
     "output_type": "stream",
     "text": [
      "/Users/anantdeepparihar/Library/Caches/pypoetry/virtualenvs/overlay-risk-6ApXjLbl-py3.9/lib/python3.9/site-packages/Historic_Crypto/HistoricalData.py:176: FutureWarning: The frame.append method is deprecated and will be removed from pandas in a future version. Use pandas.concat instead.\n",
      "  data = data.append(dataset)\n"
     ]
    },
    {
     "name": "stdout",
     "output_type": "stream",
     "text": [
      "Provisional Start: 2021-06-20T13:00:00\n",
      "Provisional End: 2021-06-21T14:00:00\n",
      "Data for chunk 62 of 72 extracted\n",
      "Provisional Start: 2021-06-21T14:00:00\n",
      "Provisional End: 2021-06-22T15:00:00\n"
     ]
    },
    {
     "name": "stderr",
     "output_type": "stream",
     "text": [
      "/Users/anantdeepparihar/Library/Caches/pypoetry/virtualenvs/overlay-risk-6ApXjLbl-py3.9/lib/python3.9/site-packages/Historic_Crypto/HistoricalData.py:176: FutureWarning: The frame.append method is deprecated and will be removed from pandas in a future version. Use pandas.concat instead.\n",
      "  data = data.append(dataset)\n"
     ]
    },
    {
     "name": "stdout",
     "output_type": "stream",
     "text": [
      "Data for chunk 63 of 72 extracted\n"
     ]
    },
    {
     "name": "stderr",
     "output_type": "stream",
     "text": [
      "/Users/anantdeepparihar/Library/Caches/pypoetry/virtualenvs/overlay-risk-6ApXjLbl-py3.9/lib/python3.9/site-packages/Historic_Crypto/HistoricalData.py:176: FutureWarning: The frame.append method is deprecated and will be removed from pandas in a future version. Use pandas.concat instead.\n",
      "  data = data.append(dataset)\n"
     ]
    },
    {
     "name": "stdout",
     "output_type": "stream",
     "text": [
      "Provisional Start: 2021-06-22T15:00:00\n",
      "Provisional End: 2021-06-23T16:00:00\n",
      "Data for chunk 64 of 72 extracted\n"
     ]
    },
    {
     "name": "stderr",
     "output_type": "stream",
     "text": [
      "/Users/anantdeepparihar/Library/Caches/pypoetry/virtualenvs/overlay-risk-6ApXjLbl-py3.9/lib/python3.9/site-packages/Historic_Crypto/HistoricalData.py:176: FutureWarning: The frame.append method is deprecated and will be removed from pandas in a future version. Use pandas.concat instead.\n",
      "  data = data.append(dataset)\n"
     ]
    },
    {
     "name": "stdout",
     "output_type": "stream",
     "text": [
      "Provisional Start: 2021-06-23T16:00:00\n",
      "Provisional End: 2021-06-24T17:00:00\n",
      "Data for chunk 65 of 72 extracted\n",
      "Provisional Start: 2021-06-24T17:00:00\n",
      "Provisional End: 2021-06-25T18:00:00\n"
     ]
    },
    {
     "name": "stderr",
     "output_type": "stream",
     "text": [
      "/Users/anantdeepparihar/Library/Caches/pypoetry/virtualenvs/overlay-risk-6ApXjLbl-py3.9/lib/python3.9/site-packages/Historic_Crypto/HistoricalData.py:176: FutureWarning: The frame.append method is deprecated and will be removed from pandas in a future version. Use pandas.concat instead.\n",
      "  data = data.append(dataset)\n"
     ]
    },
    {
     "name": "stdout",
     "output_type": "stream",
     "text": [
      "Data for chunk 66 of 72 extracted\n"
     ]
    },
    {
     "name": "stderr",
     "output_type": "stream",
     "text": [
      "/Users/anantdeepparihar/Library/Caches/pypoetry/virtualenvs/overlay-risk-6ApXjLbl-py3.9/lib/python3.9/site-packages/Historic_Crypto/HistoricalData.py:176: FutureWarning: The frame.append method is deprecated and will be removed from pandas in a future version. Use pandas.concat instead.\n",
      "  data = data.append(dataset)\n"
     ]
    },
    {
     "name": "stdout",
     "output_type": "stream",
     "text": [
      "Provisional Start: 2021-06-25T18:00:00\n",
      "Provisional End: 2021-06-26T19:00:00\n",
      "Data for chunk 67 of 72 extracted\n"
     ]
    },
    {
     "name": "stderr",
     "output_type": "stream",
     "text": [
      "/Users/anantdeepparihar/Library/Caches/pypoetry/virtualenvs/overlay-risk-6ApXjLbl-py3.9/lib/python3.9/site-packages/Historic_Crypto/HistoricalData.py:176: FutureWarning: The frame.append method is deprecated and will be removed from pandas in a future version. Use pandas.concat instead.\n",
      "  data = data.append(dataset)\n"
     ]
    },
    {
     "name": "stdout",
     "output_type": "stream",
     "text": [
      "Provisional Start: 2021-06-26T19:00:00\n",
      "Provisional End: 2021-06-27T20:00:00\n",
      "Data for chunk 68 of 72 extracted\n"
     ]
    },
    {
     "name": "stderr",
     "output_type": "stream",
     "text": [
      "/Users/anantdeepparihar/Library/Caches/pypoetry/virtualenvs/overlay-risk-6ApXjLbl-py3.9/lib/python3.9/site-packages/Historic_Crypto/HistoricalData.py:176: FutureWarning: The frame.append method is deprecated and will be removed from pandas in a future version. Use pandas.concat instead.\n",
      "  data = data.append(dataset)\n"
     ]
    },
    {
     "name": "stdout",
     "output_type": "stream",
     "text": [
      "Provisional Start: 2021-06-27T20:00:00\n",
      "Provisional End: 2021-06-28T21:00:00\n",
      "Data for chunk 69 of 72 extracted\n",
      "Provisional Start: 2021-06-28T21:00:00\n",
      "Provisional End: 2021-06-29T22:00:00\n"
     ]
    },
    {
     "name": "stderr",
     "output_type": "stream",
     "text": [
      "/Users/anantdeepparihar/Library/Caches/pypoetry/virtualenvs/overlay-risk-6ApXjLbl-py3.9/lib/python3.9/site-packages/Historic_Crypto/HistoricalData.py:176: FutureWarning: The frame.append method is deprecated and will be removed from pandas in a future version. Use pandas.concat instead.\n",
      "  data = data.append(dataset)\n"
     ]
    },
    {
     "name": "stdout",
     "output_type": "stream",
     "text": [
      "Data for chunk 70 of 72 extracted\n",
      "Provisional Start: 2021-06-29T22:00:00\n",
      "Provisional End: 2021-06-30T23:00:00\n"
     ]
    },
    {
     "name": "stderr",
     "output_type": "stream",
     "text": [
      "/Users/anantdeepparihar/Library/Caches/pypoetry/virtualenvs/overlay-risk-6ApXjLbl-py3.9/lib/python3.9/site-packages/Historic_Crypto/HistoricalData.py:176: FutureWarning: The frame.append method is deprecated and will be removed from pandas in a future version. Use pandas.concat instead.\n",
      "  data = data.append(dataset)\n"
     ]
    },
    {
     "name": "stdout",
     "output_type": "stream",
     "text": [
      "Data for chunk 71 of 72 extracted\n",
      "Provisional Start: 2021-06-30T23:00:00\n",
      "Provisional End: 2021-07-02T00:00:00\n"
     ]
    },
    {
     "name": "stderr",
     "output_type": "stream",
     "text": [
      "/Users/anantdeepparihar/Library/Caches/pypoetry/virtualenvs/overlay-risk-6ApXjLbl-py3.9/lib/python3.9/site-packages/Historic_Crypto/HistoricalData.py:176: FutureWarning: The frame.append method is deprecated and will be removed from pandas in a future version. Use pandas.concat instead.\n",
      "  data = data.append(dataset)\n"
     ]
    },
    {
     "name": "stdout",
     "output_type": "stream",
     "text": [
      "Data for chunk 72 of 72 extracted\n"
     ]
    },
    {
     "name": "stderr",
     "output_type": "stream",
     "text": [
      "/Users/anantdeepparihar/Library/Caches/pypoetry/virtualenvs/overlay-risk-6ApXjLbl-py3.9/lib/python3.9/site-packages/Historic_Crypto/HistoricalData.py:176: FutureWarning: The frame.append method is deprecated and will be removed from pandas in a future version. Use pandas.concat instead.\n",
      "  data = data.append(dataset)\n"
     ]
    }
   ],
   "source": [
    "# df = HistoricalData(ticker='BTC-USD',\n",
    "#                     granularity=300,\n",
    "#                     start_date='2021-04-18-00-00',\n",
    "#                     end_date='2021-07-01-00-00').retrieve_data()\n",
    "# df.to_csv('../../csv/BTC-USD-300-20210418-20210701.csv')"
   ]
  },
  {
   "cell_type": "markdown",
   "metadata": {},
   "source": [
    "Or read from CSV"
   ]
  },
  {
   "cell_type": "code",
   "execution_count": 9,
   "metadata": {},
   "outputs": [],
   "source": [
    "df = pd.read_csv('../../csv/BTC-USD-300-20210418-20210701.csv', index_col=0)"
   ]
  },
  {
   "cell_type": "code",
   "execution_count": 10,
   "metadata": {},
   "outputs": [
    {
     "data": {
      "text/html": [
       "<div>\n",
       "<style scoped>\n",
       "    .dataframe tbody tr th:only-of-type {\n",
       "        vertical-align: middle;\n",
       "    }\n",
       "\n",
       "    .dataframe tbody tr th {\n",
       "        vertical-align: top;\n",
       "    }\n",
       "\n",
       "    .dataframe thead th {\n",
       "        text-align: right;\n",
       "    }\n",
       "</style>\n",
       "<table border=\"1\" class=\"dataframe\">\n",
       "  <thead>\n",
       "    <tr style=\"text-align: right;\">\n",
       "      <th></th>\n",
       "      <th>low</th>\n",
       "      <th>high</th>\n",
       "      <th>open</th>\n",
       "      <th>close</th>\n",
       "      <th>volume</th>\n",
       "    </tr>\n",
       "    <tr>\n",
       "      <th>time</th>\n",
       "      <th></th>\n",
       "      <th></th>\n",
       "      <th></th>\n",
       "      <th></th>\n",
       "      <th></th>\n",
       "    </tr>\n",
       "  </thead>\n",
       "  <tbody>\n",
       "    <tr>\n",
       "      <th>2021-04-18 00:05:00</th>\n",
       "      <td>60130.09</td>\n",
       "      <td>60402.72</td>\n",
       "      <td>60198.37</td>\n",
       "      <td>60315.23</td>\n",
       "      <td>42.677299</td>\n",
       "    </tr>\n",
       "    <tr>\n",
       "      <th>2021-04-18 00:10:00</th>\n",
       "      <td>60286.11</td>\n",
       "      <td>60423.95</td>\n",
       "      <td>60315.23</td>\n",
       "      <td>60349.99</td>\n",
       "      <td>27.641236</td>\n",
       "    </tr>\n",
       "    <tr>\n",
       "      <th>2021-04-18 00:15:00</th>\n",
       "      <td>60222.20</td>\n",
       "      <td>60437.97</td>\n",
       "      <td>60350.00</td>\n",
       "      <td>60251.43</td>\n",
       "      <td>25.500509</td>\n",
       "    </tr>\n",
       "    <tr>\n",
       "      <th>2021-04-18 00:20:00</th>\n",
       "      <td>59790.01</td>\n",
       "      <td>60336.83</td>\n",
       "      <td>60251.44</td>\n",
       "      <td>59790.01</td>\n",
       "      <td>128.234019</td>\n",
       "    </tr>\n",
       "    <tr>\n",
       "      <th>2021-04-18 00:25:00</th>\n",
       "      <td>59636.58</td>\n",
       "      <td>59905.51</td>\n",
       "      <td>59790.01</td>\n",
       "      <td>59657.21</td>\n",
       "      <td>161.398991</td>\n",
       "    </tr>\n",
       "  </tbody>\n",
       "</table>\n",
       "</div>"
      ],
      "text/plain": [
       "                          low      high      open     close      volume\n",
       "time                                                                   \n",
       "2021-04-18 00:05:00  60130.09  60402.72  60198.37  60315.23   42.677299\n",
       "2021-04-18 00:10:00  60286.11  60423.95  60315.23  60349.99   27.641236\n",
       "2021-04-18 00:15:00  60222.20  60437.97  60350.00  60251.43   25.500509\n",
       "2021-04-18 00:20:00  59790.01  60336.83  60251.44  59790.01  128.234019\n",
       "2021-04-18 00:25:00  59636.58  59905.51  59790.01  59657.21  161.398991"
      ]
     },
     "execution_count": 10,
     "metadata": {},
     "output_type": "execute_result"
    }
   ],
   "source": [
    "df.head()"
   ]
  },
  {
   "cell_type": "code",
   "execution_count": 12,
   "metadata": {},
   "outputs": [
    {
     "data": {
      "text/html": [
       "<div>\n",
       "<style scoped>\n",
       "    .dataframe tbody tr th:only-of-type {\n",
       "        vertical-align: middle;\n",
       "    }\n",
       "\n",
       "    .dataframe tbody tr th {\n",
       "        vertical-align: top;\n",
       "    }\n",
       "\n",
       "    .dataframe thead th {\n",
       "        text-align: right;\n",
       "    }\n",
       "</style>\n",
       "<table border=\"1\" class=\"dataframe\">\n",
       "  <thead>\n",
       "    <tr style=\"text-align: right;\">\n",
       "      <th></th>\n",
       "      <th>low</th>\n",
       "      <th>high</th>\n",
       "      <th>open</th>\n",
       "      <th>close</th>\n",
       "      <th>volume</th>\n",
       "    </tr>\n",
       "    <tr>\n",
       "      <th>time</th>\n",
       "      <th></th>\n",
       "      <th></th>\n",
       "      <th></th>\n",
       "      <th></th>\n",
       "      <th></th>\n",
       "    </tr>\n",
       "  </thead>\n",
       "  <tbody>\n",
       "    <tr>\n",
       "      <th>2021-06-30 23:40:00</th>\n",
       "      <td>35032.94</td>\n",
       "      <td>35118.32</td>\n",
       "      <td>35058.55</td>\n",
       "      <td>35106.39</td>\n",
       "      <td>20.494551</td>\n",
       "    </tr>\n",
       "    <tr>\n",
       "      <th>2021-06-30 23:45:00</th>\n",
       "      <td>35106.98</td>\n",
       "      <td>35219.14</td>\n",
       "      <td>35106.98</td>\n",
       "      <td>35136.91</td>\n",
       "      <td>57.591426</td>\n",
       "    </tr>\n",
       "    <tr>\n",
       "      <th>2021-06-30 23:50:00</th>\n",
       "      <td>35045.44</td>\n",
       "      <td>35136.91</td>\n",
       "      <td>35136.91</td>\n",
       "      <td>35070.00</td>\n",
       "      <td>25.263494</td>\n",
       "    </tr>\n",
       "    <tr>\n",
       "      <th>2021-06-30 23:55:00</th>\n",
       "      <td>35010.73</td>\n",
       "      <td>35080.01</td>\n",
       "      <td>35070.00</td>\n",
       "      <td>35060.00</td>\n",
       "      <td>22.612907</td>\n",
       "    </tr>\n",
       "    <tr>\n",
       "      <th>2021-07-01 00:00:00</th>\n",
       "      <td>34931.08</td>\n",
       "      <td>35066.54</td>\n",
       "      <td>35060.00</td>\n",
       "      <td>34983.38</td>\n",
       "      <td>77.722460</td>\n",
       "    </tr>\n",
       "  </tbody>\n",
       "</table>\n",
       "</div>"
      ],
      "text/plain": [
       "                          low      high      open     close     volume\n",
       "time                                                                  \n",
       "2021-06-30 23:40:00  35032.94  35118.32  35058.55  35106.39  20.494551\n",
       "2021-06-30 23:45:00  35106.98  35219.14  35106.98  35136.91  57.591426\n",
       "2021-06-30 23:50:00  35045.44  35136.91  35136.91  35070.00  25.263494\n",
       "2021-06-30 23:55:00  35010.73  35080.01  35070.00  35060.00  22.612907\n",
       "2021-07-01 00:00:00  34931.08  35066.54  35060.00  34983.38  77.722460"
      ]
     },
     "execution_count": 12,
     "metadata": {},
     "output_type": "execute_result"
    }
   ],
   "source": [
    "df.tail()"
   ]
  },
  {
   "cell_type": "markdown",
   "metadata": {},
   "source": [
    "# Data Sanity Checks"
   ]
  },
  {
   "cell_type": "code",
   "execution_count": 13,
   "metadata": {},
   "outputs": [
    {
     "data": {
      "text/html": [
       "<div>\n",
       "<style scoped>\n",
       "    .dataframe tbody tr th:only-of-type {\n",
       "        vertical-align: middle;\n",
       "    }\n",
       "\n",
       "    .dataframe tbody tr th {\n",
       "        vertical-align: top;\n",
       "    }\n",
       "\n",
       "    .dataframe thead th {\n",
       "        text-align: right;\n",
       "    }\n",
       "</style>\n",
       "<table border=\"1\" class=\"dataframe\">\n",
       "  <thead>\n",
       "    <tr style=\"text-align: right;\">\n",
       "      <th></th>\n",
       "      <th>time</th>\n",
       "      <th>low</th>\n",
       "      <th>high</th>\n",
       "      <th>open</th>\n",
       "      <th>close</th>\n",
       "      <th>volume</th>\n",
       "    </tr>\n",
       "  </thead>\n",
       "  <tbody>\n",
       "    <tr>\n",
       "      <th>0</th>\n",
       "      <td>2021-04-18 00:05:00</td>\n",
       "      <td>60130.09</td>\n",
       "      <td>60402.72</td>\n",
       "      <td>60198.37</td>\n",
       "      <td>60315.23</td>\n",
       "      <td>42.677299</td>\n",
       "    </tr>\n",
       "    <tr>\n",
       "      <th>1</th>\n",
       "      <td>2021-04-18 00:10:00</td>\n",
       "      <td>60286.11</td>\n",
       "      <td>60423.95</td>\n",
       "      <td>60315.23</td>\n",
       "      <td>60349.99</td>\n",
       "      <td>27.641236</td>\n",
       "    </tr>\n",
       "    <tr>\n",
       "      <th>2</th>\n",
       "      <td>2021-04-18 00:15:00</td>\n",
       "      <td>60222.20</td>\n",
       "      <td>60437.97</td>\n",
       "      <td>60350.00</td>\n",
       "      <td>60251.43</td>\n",
       "      <td>25.500509</td>\n",
       "    </tr>\n",
       "    <tr>\n",
       "      <th>3</th>\n",
       "      <td>2021-04-18 00:20:00</td>\n",
       "      <td>59790.01</td>\n",
       "      <td>60336.83</td>\n",
       "      <td>60251.44</td>\n",
       "      <td>59790.01</td>\n",
       "      <td>128.234019</td>\n",
       "    </tr>\n",
       "    <tr>\n",
       "      <th>4</th>\n",
       "      <td>2021-04-18 00:25:00</td>\n",
       "      <td>59636.58</td>\n",
       "      <td>59905.51</td>\n",
       "      <td>59790.01</td>\n",
       "      <td>59657.21</td>\n",
       "      <td>161.398991</td>\n",
       "    </tr>\n",
       "  </tbody>\n",
       "</table>\n",
       "</div>"
      ],
      "text/plain": [
       "                 time       low      high      open     close      volume\n",
       "0 2021-04-18 00:05:00  60130.09  60402.72  60198.37  60315.23   42.677299\n",
       "1 2021-04-18 00:10:00  60286.11  60423.95  60315.23  60349.99   27.641236\n",
       "2 2021-04-18 00:15:00  60222.20  60437.97  60350.00  60251.43   25.500509\n",
       "3 2021-04-18 00:20:00  59790.01  60336.83  60251.44  59790.01  128.234019\n",
       "4 2021-04-18 00:25:00  59636.58  59905.51  59790.01  59657.21  161.398991"
      ]
     },
     "execution_count": 13,
     "metadata": {},
     "output_type": "execute_result"
    }
   ],
   "source": [
    "# Make time a column instead of index\n",
    "\n",
    "df.reset_index(inplace=True)\n",
    "df['time'] = pd.to_datetime(df['time'])\n",
    "df.head()"
   ]
  },
  {
   "cell_type": "code",
   "execution_count": 14,
   "metadata": {},
   "outputs": [
    {
     "name": "stdout",
     "output_type": "stream",
     "text": [
      "0 days 00:05:00\n",
      "0 days 00:10:00\n"
     ]
    }
   ],
   "source": [
    "# Check if there is data at every 5 min interval\n",
    "\n",
    "lag_diff = df.time - df.time.shift(1)\n",
    "print(lag_diff.min())\n",
    "print(lag_diff.max())"
   ]
  },
  {
   "cell_type": "code",
   "execution_count": 17,
   "metadata": {},
   "outputs": [
    {
     "data": {
      "text/plain": [
       "4246   0 days 00:10:00\n",
       "Name: time, dtype: timedelta64[ns]"
      ]
     },
     "execution_count": 17,
     "metadata": {},
     "output_type": "execute_result"
    }
   ],
   "source": [
    "# Difference shouldn't be greater than 10 mins in too many cases since shorter \n",
    "# TWAP on Overlay V1 is 10 mins. Also, ideally this data should have a \n",
    "# granularity of 5 mins, if it exceeds 10 mins in a lot of cases, then the \n",
    "# integrity of the data is questionable.\n",
    "\n",
    "# As per above check, granularity is not greater than 10 mins anywhere, so we gucci.\n",
    "# Let's check how number of instances of 10 mins granularity.\n",
    "\n",
    "lag_diff[lag_diff == datetime.timedelta(minutes=10)].sort_values()"
   ]
  },
  {
   "cell_type": "code",
   "execution_count": 18,
   "metadata": {},
   "outputs": [
    {
     "data": {
      "text/html": [
       "<div>\n",
       "<style scoped>\n",
       "    .dataframe tbody tr th:only-of-type {\n",
       "        vertical-align: middle;\n",
       "    }\n",
       "\n",
       "    .dataframe tbody tr th {\n",
       "        vertical-align: top;\n",
       "    }\n",
       "\n",
       "    .dataframe thead th {\n",
       "        text-align: right;\n",
       "    }\n",
       "</style>\n",
       "<table border=\"1\" class=\"dataframe\">\n",
       "  <thead>\n",
       "    <tr style=\"text-align: right;\">\n",
       "      <th></th>\n",
       "      <th>time</th>\n",
       "      <th>low</th>\n",
       "      <th>high</th>\n",
       "      <th>open</th>\n",
       "      <th>close</th>\n",
       "      <th>volume</th>\n",
       "    </tr>\n",
       "  </thead>\n",
       "  <tbody>\n",
       "    <tr>\n",
       "      <th>4240</th>\n",
       "      <td>2021-05-02 17:25:00</td>\n",
       "      <td>56676.34</td>\n",
       "      <td>56785.46</td>\n",
       "      <td>56776.36</td>\n",
       "      <td>56688.45</td>\n",
       "      <td>15.565985</td>\n",
       "    </tr>\n",
       "    <tr>\n",
       "      <th>4241</th>\n",
       "      <td>2021-05-02 17:30:00</td>\n",
       "      <td>56688.44</td>\n",
       "      <td>56748.48</td>\n",
       "      <td>56688.45</td>\n",
       "      <td>56734.52</td>\n",
       "      <td>12.317626</td>\n",
       "    </tr>\n",
       "    <tr>\n",
       "      <th>4242</th>\n",
       "      <td>2021-05-02 17:35:00</td>\n",
       "      <td>56691.21</td>\n",
       "      <td>56771.28</td>\n",
       "      <td>56734.52</td>\n",
       "      <td>56755.96</td>\n",
       "      <td>11.591231</td>\n",
       "    </tr>\n",
       "    <tr>\n",
       "      <th>4243</th>\n",
       "      <td>2021-05-02 17:40:00</td>\n",
       "      <td>56755.96</td>\n",
       "      <td>56903.88</td>\n",
       "      <td>56755.96</td>\n",
       "      <td>56869.76</td>\n",
       "      <td>23.641233</td>\n",
       "    </tr>\n",
       "    <tr>\n",
       "      <th>4244</th>\n",
       "      <td>2021-05-02 17:45:00</td>\n",
       "      <td>56827.60</td>\n",
       "      <td>56868.23</td>\n",
       "      <td>56868.23</td>\n",
       "      <td>56837.88</td>\n",
       "      <td>6.648668</td>\n",
       "    </tr>\n",
       "    <tr>\n",
       "      <th>4245</th>\n",
       "      <td>2021-05-02 17:50:00</td>\n",
       "      <td>56820.12</td>\n",
       "      <td>56854.58</td>\n",
       "      <td>56837.87</td>\n",
       "      <td>56845.68</td>\n",
       "      <td>5.104748</td>\n",
       "    </tr>\n",
       "    <tr>\n",
       "      <th>4246</th>\n",
       "      <td>2021-05-02 18:00:00</td>\n",
       "      <td>56828.27</td>\n",
       "      <td>56854.58</td>\n",
       "      <td>56844.81</td>\n",
       "      <td>56848.56</td>\n",
       "      <td>2.251681</td>\n",
       "    </tr>\n",
       "    <tr>\n",
       "      <th>4247</th>\n",
       "      <td>2021-05-02 18:05:00</td>\n",
       "      <td>56784.84</td>\n",
       "      <td>56853.35</td>\n",
       "      <td>56848.55</td>\n",
       "      <td>56794.79</td>\n",
       "      <td>15.797568</td>\n",
       "    </tr>\n",
       "    <tr>\n",
       "      <th>4248</th>\n",
       "      <td>2021-05-02 18:10:00</td>\n",
       "      <td>56794.79</td>\n",
       "      <td>56840.13</td>\n",
       "      <td>56794.80</td>\n",
       "      <td>56808.99</td>\n",
       "      <td>16.632373</td>\n",
       "    </tr>\n",
       "    <tr>\n",
       "      <th>4249</th>\n",
       "      <td>2021-05-02 18:15:00</td>\n",
       "      <td>56771.28</td>\n",
       "      <td>56847.45</td>\n",
       "      <td>56809.00</td>\n",
       "      <td>56847.45</td>\n",
       "      <td>47.764064</td>\n",
       "    </tr>\n",
       "  </tbody>\n",
       "</table>\n",
       "</div>"
      ],
      "text/plain": [
       "                    time       low      high      open     close     volume\n",
       "4240 2021-05-02 17:25:00  56676.34  56785.46  56776.36  56688.45  15.565985\n",
       "4241 2021-05-02 17:30:00  56688.44  56748.48  56688.45  56734.52  12.317626\n",
       "4242 2021-05-02 17:35:00  56691.21  56771.28  56734.52  56755.96  11.591231\n",
       "4243 2021-05-02 17:40:00  56755.96  56903.88  56755.96  56869.76  23.641233\n",
       "4244 2021-05-02 17:45:00  56827.60  56868.23  56868.23  56837.88   6.648668\n",
       "4245 2021-05-02 17:50:00  56820.12  56854.58  56837.87  56845.68   5.104748\n",
       "4246 2021-05-02 18:00:00  56828.27  56854.58  56844.81  56848.56   2.251681\n",
       "4247 2021-05-02 18:05:00  56784.84  56853.35  56848.55  56794.79  15.797568\n",
       "4248 2021-05-02 18:10:00  56794.79  56840.13  56794.80  56808.99  16.632373\n",
       "4249 2021-05-02 18:15:00  56771.28  56847.45  56809.00  56847.45  47.764064"
      ]
     },
     "execution_count": 18,
     "metadata": {},
     "output_type": "execute_result"
    }
   ],
   "source": [
    "# Only 1 such instance. Let's check it manually\n",
    "df.iloc[4240:4250]\n",
    "\n",
    "# Nothing out of the ordinary here. Price barely moved in those 10 mins."
   ]
  },
  {
   "cell_type": "code",
   "execution_count": 19,
   "metadata": {},
   "outputs": [
    {
     "data": {
      "text/html": [
       "<div>\n",
       "<style scoped>\n",
       "    .dataframe tbody tr th:only-of-type {\n",
       "        vertical-align: middle;\n",
       "    }\n",
       "\n",
       "    .dataframe tbody tr th {\n",
       "        vertical-align: top;\n",
       "    }\n",
       "\n",
       "    .dataframe thead th {\n",
       "        text-align: right;\n",
       "    }\n",
       "</style>\n",
       "<table border=\"1\" class=\"dataframe\">\n",
       "  <thead>\n",
       "    <tr style=\"text-align: right;\">\n",
       "      <th></th>\n",
       "      <th>time</th>\n",
       "      <th>low</th>\n",
       "      <th>high</th>\n",
       "      <th>open</th>\n",
       "      <th>close</th>\n",
       "      <th>volume</th>\n",
       "      <th>lag_diff_time</th>\n",
       "      <th>lag_diff_price</th>\n",
       "    </tr>\n",
       "  </thead>\n",
       "  <tbody>\n",
       "    <tr>\n",
       "      <th>0</th>\n",
       "      <td>2021-04-18 00:05:00</td>\n",
       "      <td>60130.09</td>\n",
       "      <td>60402.72</td>\n",
       "      <td>60198.37</td>\n",
       "      <td>60315.23</td>\n",
       "      <td>42.677299</td>\n",
       "      <td>NaN</td>\n",
       "      <td>NaN</td>\n",
       "    </tr>\n",
       "    <tr>\n",
       "      <th>1</th>\n",
       "      <td>2021-04-18 00:10:00</td>\n",
       "      <td>60286.11</td>\n",
       "      <td>60423.95</td>\n",
       "      <td>60315.23</td>\n",
       "      <td>60349.99</td>\n",
       "      <td>27.641236</td>\n",
       "      <td>300.0</td>\n",
       "      <td>0.057631</td>\n",
       "    </tr>\n",
       "    <tr>\n",
       "      <th>2</th>\n",
       "      <td>2021-04-18 00:15:00</td>\n",
       "      <td>60222.20</td>\n",
       "      <td>60437.97</td>\n",
       "      <td>60350.00</td>\n",
       "      <td>60251.43</td>\n",
       "      <td>25.500509</td>\n",
       "      <td>300.0</td>\n",
       "      <td>0.163314</td>\n",
       "    </tr>\n",
       "    <tr>\n",
       "      <th>3</th>\n",
       "      <td>2021-04-18 00:20:00</td>\n",
       "      <td>59790.01</td>\n",
       "      <td>60336.83</td>\n",
       "      <td>60251.44</td>\n",
       "      <td>59790.01</td>\n",
       "      <td>128.234019</td>\n",
       "      <td>300.0</td>\n",
       "      <td>0.765824</td>\n",
       "    </tr>\n",
       "    <tr>\n",
       "      <th>4</th>\n",
       "      <td>2021-04-18 00:25:00</td>\n",
       "      <td>59636.58</td>\n",
       "      <td>59905.51</td>\n",
       "      <td>59790.01</td>\n",
       "      <td>59657.21</td>\n",
       "      <td>161.398991</td>\n",
       "      <td>300.0</td>\n",
       "      <td>0.222111</td>\n",
       "    </tr>\n",
       "  </tbody>\n",
       "</table>\n",
       "</div>"
      ],
      "text/plain": [
       "                 time       low      high      open     close      volume  \\\n",
       "0 2021-04-18 00:05:00  60130.09  60402.72  60198.37  60315.23   42.677299   \n",
       "1 2021-04-18 00:10:00  60286.11  60423.95  60315.23  60349.99   27.641236   \n",
       "2 2021-04-18 00:15:00  60222.20  60437.97  60350.00  60251.43   25.500509   \n",
       "3 2021-04-18 00:20:00  59790.01  60336.83  60251.44  59790.01  128.234019   \n",
       "4 2021-04-18 00:25:00  59636.58  59905.51  59790.01  59657.21  161.398991   \n",
       "\n",
       "   lag_diff_time  lag_diff_price  \n",
       "0            NaN             NaN  \n",
       "1          300.0        0.057631  \n",
       "2          300.0        0.163314  \n",
       "3          300.0        0.765824  \n",
       "4          300.0        0.222111  "
      ]
     },
     "execution_count": 19,
     "metadata": {},
     "output_type": "execute_result"
    }
   ],
   "source": [
    "# Create 2 new columns\n",
    "# lag_diff_time: seconds difference between current and previous row\n",
    "# lag_diff_price: percentage difference in close price between current and previous row\n",
    "\n",
    "df['lag_diff_time'] = (df.time - df.time.shift(1)).dt.seconds\n",
    "df['lag_diff_price'] = (abs(df.close - df.close.shift(1))/df.close.shifta(1))*100\n",
    "df.head()"
   ]
  },
  {
   "cell_type": "markdown",
   "metadata": {},
   "source": [
    "# Convert data to 10 minute TWAP"
   ]
  },
  {
   "cell_type": "code",
   "execution_count": 21,
   "metadata": {},
   "outputs": [
    {
     "data": {
      "text/html": [
       "<div>\n",
       "<style scoped>\n",
       "    .dataframe tbody tr th:only-of-type {\n",
       "        vertical-align: middle;\n",
       "    }\n",
       "\n",
       "    .dataframe tbody tr th {\n",
       "        vertical-align: top;\n",
       "    }\n",
       "\n",
       "    .dataframe thead th {\n",
       "        text-align: right;\n",
       "    }\n",
       "</style>\n",
       "<table border=\"1\" class=\"dataframe\">\n",
       "  <thead>\n",
       "    <tr style=\"text-align: right;\">\n",
       "      <th></th>\n",
       "      <th>time</th>\n",
       "      <th>low</th>\n",
       "      <th>high</th>\n",
       "      <th>open</th>\n",
       "      <th>close</th>\n",
       "      <th>volume</th>\n",
       "      <th>lag_diff_time</th>\n",
       "      <th>lag_diff_price</th>\n",
       "    </tr>\n",
       "  </thead>\n",
       "  <tbody>\n",
       "    <tr>\n",
       "      <th>0</th>\n",
       "      <td>2021-04-18 00:05:00</td>\n",
       "      <td>60130.09</td>\n",
       "      <td>60402.72</td>\n",
       "      <td>60198.37</td>\n",
       "      <td>60315.23</td>\n",
       "      <td>42.677299</td>\n",
       "      <td>NaN</td>\n",
       "      <td>NaN</td>\n",
       "    </tr>\n",
       "    <tr>\n",
       "      <th>1</th>\n",
       "      <td>2021-04-18 00:15:00</td>\n",
       "      <td>60222.20</td>\n",
       "      <td>60437.97</td>\n",
       "      <td>60350.00</td>\n",
       "      <td>60251.43</td>\n",
       "      <td>25.500509</td>\n",
       "      <td>300.0</td>\n",
       "      <td>0.163314</td>\n",
       "    </tr>\n",
       "    <tr>\n",
       "      <th>2</th>\n",
       "      <td>2021-04-18 00:25:00</td>\n",
       "      <td>59636.58</td>\n",
       "      <td>59905.51</td>\n",
       "      <td>59790.01</td>\n",
       "      <td>59657.21</td>\n",
       "      <td>161.398991</td>\n",
       "      <td>300.0</td>\n",
       "      <td>0.222111</td>\n",
       "    </tr>\n",
       "    <tr>\n",
       "      <th>3</th>\n",
       "      <td>2021-04-18 00:35:00</td>\n",
       "      <td>59618.31</td>\n",
       "      <td>59843.56</td>\n",
       "      <td>59788.58</td>\n",
       "      <td>59666.24</td>\n",
       "      <td>58.546233</td>\n",
       "      <td>300.0</td>\n",
       "      <td>0.204621</td>\n",
       "    </tr>\n",
       "    <tr>\n",
       "      <th>4</th>\n",
       "      <td>2021-04-18 00:45:00</td>\n",
       "      <td>59648.01</td>\n",
       "      <td>59830.00</td>\n",
       "      <td>59774.40</td>\n",
       "      <td>59741.14</td>\n",
       "      <td>45.561762</td>\n",
       "      <td>300.0</td>\n",
       "      <td>0.057164</td>\n",
       "    </tr>\n",
       "    <tr>\n",
       "      <th>5</th>\n",
       "      <td>2021-04-18 00:55:00</td>\n",
       "      <td>59445.78</td>\n",
       "      <td>59722.60</td>\n",
       "      <td>59608.09</td>\n",
       "      <td>59473.66</td>\n",
       "      <td>67.478866</td>\n",
       "      <td>300.0</td>\n",
       "      <td>0.225540</td>\n",
       "    </tr>\n",
       "    <tr>\n",
       "      <th>6</th>\n",
       "      <td>2021-04-18 01:05:00</td>\n",
       "      <td>59609.28</td>\n",
       "      <td>59705.79</td>\n",
       "      <td>59624.57</td>\n",
       "      <td>59650.00</td>\n",
       "      <td>39.437784</td>\n",
       "      <td>300.0</td>\n",
       "      <td>0.042650</td>\n",
       "    </tr>\n",
       "    <tr>\n",
       "      <th>7</th>\n",
       "      <td>2021-04-18 01:15:00</td>\n",
       "      <td>59100.00</td>\n",
       "      <td>59341.15</td>\n",
       "      <td>59341.15</td>\n",
       "      <td>59187.25</td>\n",
       "      <td>192.806138</td>\n",
       "      <td>300.0</td>\n",
       "      <td>0.259365</td>\n",
       "    </tr>\n",
       "    <tr>\n",
       "      <th>8</th>\n",
       "      <td>2021-04-18 01:25:00</td>\n",
       "      <td>59314.12</td>\n",
       "      <td>59498.81</td>\n",
       "      <td>59314.67</td>\n",
       "      <td>59406.84</td>\n",
       "      <td>60.253963</td>\n",
       "      <td>300.0</td>\n",
       "      <td>0.155408</td>\n",
       "    </tr>\n",
       "    <tr>\n",
       "      <th>9</th>\n",
       "      <td>2021-04-18 01:35:00</td>\n",
       "      <td>59533.38</td>\n",
       "      <td>59728.80</td>\n",
       "      <td>59625.27</td>\n",
       "      <td>59673.05</td>\n",
       "      <td>75.934069</td>\n",
       "      <td>300.0</td>\n",
       "      <td>0.080117</td>\n",
       "    </tr>\n",
       "  </tbody>\n",
       "</table>\n",
       "</div>"
      ],
      "text/plain": [
       "                 time       low      high      open     close      volume  \\\n",
       "0 2021-04-18 00:05:00  60130.09  60402.72  60198.37  60315.23   42.677299   \n",
       "1 2021-04-18 00:15:00  60222.20  60437.97  60350.00  60251.43   25.500509   \n",
       "2 2021-04-18 00:25:00  59636.58  59905.51  59790.01  59657.21  161.398991   \n",
       "3 2021-04-18 00:35:00  59618.31  59843.56  59788.58  59666.24   58.546233   \n",
       "4 2021-04-18 00:45:00  59648.01  59830.00  59774.40  59741.14   45.561762   \n",
       "5 2021-04-18 00:55:00  59445.78  59722.60  59608.09  59473.66   67.478866   \n",
       "6 2021-04-18 01:05:00  59609.28  59705.79  59624.57  59650.00   39.437784   \n",
       "7 2021-04-18 01:15:00  59100.00  59341.15  59341.15  59187.25  192.806138   \n",
       "8 2021-04-18 01:25:00  59314.12  59498.81  59314.67  59406.84   60.253963   \n",
       "9 2021-04-18 01:35:00  59533.38  59728.80  59625.27  59673.05   75.934069   \n",
       "\n",
       "   lag_diff_time  lag_diff_price  \n",
       "0            NaN             NaN  \n",
       "1          300.0        0.163314  \n",
       "2          300.0        0.222111  \n",
       "3          300.0        0.204621  \n",
       "4          300.0        0.057164  \n",
       "5          300.0        0.225540  \n",
       "6          300.0        0.042650  \n",
       "7          300.0        0.259365  \n",
       "8          300.0        0.155408  \n",
       "9          300.0        0.080117  "
      ]
     },
     "execution_count": 21,
     "metadata": {},
     "output_type": "execute_result"
    }
   ],
   "source": [
    "# Remove every alternate row to get to 10 min periodicity\n",
    "\n",
    "twap_base = df.iloc[[i for i in range(0, len(df), 2)],]\\\n",
    "    .reset_index()\\\n",
    "    .drop('index', axis=1)\n",
    "twap_base.head(10)"
   ]
  },
  {
   "cell_type": "markdown",
   "metadata": {},
   "source": [
    "#### Data quality checks on 10 min data"
   ]
  },
  {
   "cell_type": "code",
   "execution_count": 22,
   "metadata": {},
   "outputs": [
    {
     "data": {
      "text/html": [
       "<div>\n",
       "<style scoped>\n",
       "    .dataframe tbody tr th:only-of-type {\n",
       "        vertical-align: middle;\n",
       "    }\n",
       "\n",
       "    .dataframe tbody tr th {\n",
       "        vertical-align: top;\n",
       "    }\n",
       "\n",
       "    .dataframe thead th {\n",
       "        text-align: right;\n",
       "    }\n",
       "</style>\n",
       "<table border=\"1\" class=\"dataframe\">\n",
       "  <thead>\n",
       "    <tr style=\"text-align: right;\">\n",
       "      <th></th>\n",
       "      <th>time</th>\n",
       "      <th>low</th>\n",
       "      <th>high</th>\n",
       "      <th>open</th>\n",
       "      <th>close</th>\n",
       "      <th>volume</th>\n",
       "      <th>lag_diff_time</th>\n",
       "      <th>lag_diff_price</th>\n",
       "    </tr>\n",
       "  </thead>\n",
       "  <tbody>\n",
       "    <tr>\n",
       "      <th>0</th>\n",
       "      <td>2021-04-18 00:05:00</td>\n",
       "      <td>60130.09</td>\n",
       "      <td>60402.72</td>\n",
       "      <td>60198.37</td>\n",
       "      <td>60315.23</td>\n",
       "      <td>42.677299</td>\n",
       "      <td>NaN</td>\n",
       "      <td>NaN</td>\n",
       "    </tr>\n",
       "    <tr>\n",
       "      <th>1</th>\n",
       "      <td>2021-04-18 00:15:00</td>\n",
       "      <td>60222.20</td>\n",
       "      <td>60437.97</td>\n",
       "      <td>60350.00</td>\n",
       "      <td>60251.43</td>\n",
       "      <td>25.500509</td>\n",
       "      <td>600.0</td>\n",
       "      <td>0.105778</td>\n",
       "    </tr>\n",
       "    <tr>\n",
       "      <th>2</th>\n",
       "      <td>2021-04-18 00:25:00</td>\n",
       "      <td>59636.58</td>\n",
       "      <td>59905.51</td>\n",
       "      <td>59790.01</td>\n",
       "      <td>59657.21</td>\n",
       "      <td>161.398991</td>\n",
       "      <td>600.0</td>\n",
       "      <td>0.986234</td>\n",
       "    </tr>\n",
       "    <tr>\n",
       "      <th>3</th>\n",
       "      <td>2021-04-18 00:35:00</td>\n",
       "      <td>59618.31</td>\n",
       "      <td>59843.56</td>\n",
       "      <td>59788.58</td>\n",
       "      <td>59666.24</td>\n",
       "      <td>58.546233</td>\n",
       "      <td>600.0</td>\n",
       "      <td>0.015136</td>\n",
       "    </tr>\n",
       "    <tr>\n",
       "      <th>4</th>\n",
       "      <td>2021-04-18 00:45:00</td>\n",
       "      <td>59648.01</td>\n",
       "      <td>59830.00</td>\n",
       "      <td>59774.40</td>\n",
       "      <td>59741.14</td>\n",
       "      <td>45.561762</td>\n",
       "      <td>600.0</td>\n",
       "      <td>0.125532</td>\n",
       "    </tr>\n",
       "  </tbody>\n",
       "</table>\n",
       "</div>"
      ],
      "text/plain": [
       "                 time       low      high      open     close      volume  \\\n",
       "0 2021-04-18 00:05:00  60130.09  60402.72  60198.37  60315.23   42.677299   \n",
       "1 2021-04-18 00:15:00  60222.20  60437.97  60350.00  60251.43   25.500509   \n",
       "2 2021-04-18 00:25:00  59636.58  59905.51  59790.01  59657.21  161.398991   \n",
       "3 2021-04-18 00:35:00  59618.31  59843.56  59788.58  59666.24   58.546233   \n",
       "4 2021-04-18 00:45:00  59648.01  59830.00  59774.40  59741.14   45.561762   \n",
       "\n",
       "   lag_diff_time  lag_diff_price  \n",
       "0            NaN             NaN  \n",
       "1          600.0        0.105778  \n",
       "2          600.0        0.986234  \n",
       "3          600.0        0.015136  \n",
       "4          600.0        0.125532  "
      ]
     },
     "execution_count": 22,
     "metadata": {},
     "output_type": "execute_result"
    }
   ],
   "source": [
    "# Create 2 new columns\n",
    "# lag_diff_time: seconds difference between current and previous row\n",
    "# lag_diff_price: percentage difference in close price between current and previous row\n",
    "\n",
    "twap_base['lag_diff_time'] = (twap_base.time - twap_base.time.shift(1)).dt.seconds\n",
    "twap_base['lag_diff_price'] = (abs(twap_base.close - twap_base.close.shift(1))/twap_base.close.shift(1))*100\n",
    "twap_base.head()"
   ]
  },
  {
   "cell_type": "code",
   "execution_count": 28,
   "metadata": {},
   "outputs": [
    {
     "data": {
      "text/html": [
       "<div>\n",
       "<style scoped>\n",
       "    .dataframe tbody tr th:only-of-type {\n",
       "        vertical-align: middle;\n",
       "    }\n",
       "\n",
       "    .dataframe tbody tr th {\n",
       "        vertical-align: top;\n",
       "    }\n",
       "\n",
       "    .dataframe thead th {\n",
       "        text-align: right;\n",
       "    }\n",
       "</style>\n",
       "<table border=\"1\" class=\"dataframe\">\n",
       "  <thead>\n",
       "    <tr style=\"text-align: right;\">\n",
       "      <th></th>\n",
       "      <th>time</th>\n",
       "      <th>low</th>\n",
       "      <th>high</th>\n",
       "      <th>open</th>\n",
       "      <th>close</th>\n",
       "      <th>volume</th>\n",
       "      <th>lag_diff_time</th>\n",
       "      <th>lag_diff_price</th>\n",
       "    </tr>\n",
       "  </thead>\n",
       "  <tbody>\n",
       "    <tr>\n",
       "      <th>2123</th>\n",
       "      <td>2021-05-02 18:00:00</td>\n",
       "      <td>56828.27</td>\n",
       "      <td>56854.58</td>\n",
       "      <td>56844.81</td>\n",
       "      <td>56848.56</td>\n",
       "      <td>2.251681</td>\n",
       "      <td>900.0</td>\n",
       "      <td>0.01879</td>\n",
       "    </tr>\n",
       "  </tbody>\n",
       "</table>\n",
       "</div>"
      ],
      "text/plain": [
       "                    time       low      high      open     close    volume  \\\n",
       "2123 2021-05-02 18:00:00  56828.27  56854.58  56844.81  56848.56  2.251681   \n",
       "\n",
       "      lag_diff_time  lag_diff_price  \n",
       "2123          900.0         0.01879  "
      ]
     },
     "execution_count": 28,
     "metadata": {},
     "output_type": "execute_result"
    }
   ],
   "source": [
    "# Pull cases where difference is greater than 10 mins.\n",
    "# 10 mins cuz shorter TWAP on Overlay V1 is 10 mins.\n",
    "\n",
    "twap_base[twap_base['lag_diff_time'] > 600]\n",
    "\n",
    "# Same row problematic row as before now has a gap of 15 mins. Not a problem \n",
    "# since price wasn't volatile, so not missing out on any crucial info in \n",
    "# these 5 mins."
   ]
  },
  {
   "cell_type": "markdown",
   "metadata": {},
   "source": [
    "#### Convert to twap"
   ]
  },
  {
   "cell_type": "code",
   "execution_count": 29,
   "metadata": {},
   "outputs": [
    {
     "data": {
      "text/html": [
       "<div>\n",
       "<style scoped>\n",
       "    .dataframe tbody tr th:only-of-type {\n",
       "        vertical-align: middle;\n",
       "    }\n",
       "\n",
       "    .dataframe tbody tr th {\n",
       "        vertical-align: top;\n",
       "    }\n",
       "\n",
       "    .dataframe thead th {\n",
       "        text-align: right;\n",
       "    }\n",
       "</style>\n",
       "<table border=\"1\" class=\"dataframe\">\n",
       "  <thead>\n",
       "    <tr style=\"text-align: right;\">\n",
       "      <th></th>\n",
       "      <th>time</th>\n",
       "      <th>low</th>\n",
       "      <th>high</th>\n",
       "      <th>open</th>\n",
       "      <th>close</th>\n",
       "      <th>volume</th>\n",
       "      <th>lag_diff_time</th>\n",
       "      <th>lag_diff_price</th>\n",
       "      <th>shift_close</th>\n",
       "      <th>twap</th>\n",
       "    </tr>\n",
       "  </thead>\n",
       "  <tbody>\n",
       "    <tr>\n",
       "      <th>0</th>\n",
       "      <td>2021-04-18 00:05:00</td>\n",
       "      <td>60130.09</td>\n",
       "      <td>60402.72</td>\n",
       "      <td>60198.37</td>\n",
       "      <td>60315.23</td>\n",
       "      <td>42.677299</td>\n",
       "      <td>NaN</td>\n",
       "      <td>NaN</td>\n",
       "      <td>NaN</td>\n",
       "      <td>60315.230</td>\n",
       "    </tr>\n",
       "    <tr>\n",
       "      <th>1</th>\n",
       "      <td>2021-04-18 00:15:00</td>\n",
       "      <td>60222.20</td>\n",
       "      <td>60437.97</td>\n",
       "      <td>60350.00</td>\n",
       "      <td>60251.43</td>\n",
       "      <td>25.500509</td>\n",
       "      <td>600.0</td>\n",
       "      <td>0.105778</td>\n",
       "      <td>60315.23</td>\n",
       "      <td>60283.330</td>\n",
       "    </tr>\n",
       "    <tr>\n",
       "      <th>2</th>\n",
       "      <td>2021-04-18 00:25:00</td>\n",
       "      <td>59636.58</td>\n",
       "      <td>59905.51</td>\n",
       "      <td>59790.01</td>\n",
       "      <td>59657.21</td>\n",
       "      <td>161.398991</td>\n",
       "      <td>600.0</td>\n",
       "      <td>0.986234</td>\n",
       "      <td>60251.43</td>\n",
       "      <td>59954.320</td>\n",
       "    </tr>\n",
       "    <tr>\n",
       "      <th>3</th>\n",
       "      <td>2021-04-18 00:35:00</td>\n",
       "      <td>59618.31</td>\n",
       "      <td>59843.56</td>\n",
       "      <td>59788.58</td>\n",
       "      <td>59666.24</td>\n",
       "      <td>58.546233</td>\n",
       "      <td>600.0</td>\n",
       "      <td>0.015136</td>\n",
       "      <td>59657.21</td>\n",
       "      <td>59661.725</td>\n",
       "    </tr>\n",
       "    <tr>\n",
       "      <th>4</th>\n",
       "      <td>2021-04-18 00:45:00</td>\n",
       "      <td>59648.01</td>\n",
       "      <td>59830.00</td>\n",
       "      <td>59774.40</td>\n",
       "      <td>59741.14</td>\n",
       "      <td>45.561762</td>\n",
       "      <td>600.0</td>\n",
       "      <td>0.125532</td>\n",
       "      <td>59666.24</td>\n",
       "      <td>59703.690</td>\n",
       "    </tr>\n",
       "    <tr>\n",
       "      <th>...</th>\n",
       "      <td>...</td>\n",
       "      <td>...</td>\n",
       "      <td>...</td>\n",
       "      <td>...</td>\n",
       "      <td>...</td>\n",
       "      <td>...</td>\n",
       "      <td>...</td>\n",
       "      <td>...</td>\n",
       "      <td>...</td>\n",
       "      <td>...</td>\n",
       "    </tr>\n",
       "    <tr>\n",
       "      <th>10651</th>\n",
       "      <td>2021-06-30 23:20:00</td>\n",
       "      <td>35000.00</td>\n",
       "      <td>35060.23</td>\n",
       "      <td>35043.77</td>\n",
       "      <td>35016.94</td>\n",
       "      <td>21.670220</td>\n",
       "      <td>600.0</td>\n",
       "      <td>0.220463</td>\n",
       "      <td>35094.31</td>\n",
       "      <td>35055.625</td>\n",
       "    </tr>\n",
       "    <tr>\n",
       "      <th>10652</th>\n",
       "      <td>2021-06-30 23:30:00</td>\n",
       "      <td>34986.34</td>\n",
       "      <td>35123.70</td>\n",
       "      <td>35013.01</td>\n",
       "      <td>35089.01</td>\n",
       "      <td>37.055510</td>\n",
       "      <td>600.0</td>\n",
       "      <td>0.205815</td>\n",
       "      <td>35016.94</td>\n",
       "      <td>35052.975</td>\n",
       "    </tr>\n",
       "    <tr>\n",
       "      <th>10653</th>\n",
       "      <td>2021-06-30 23:40:00</td>\n",
       "      <td>35032.94</td>\n",
       "      <td>35118.32</td>\n",
       "      <td>35058.55</td>\n",
       "      <td>35106.39</td>\n",
       "      <td>20.494551</td>\n",
       "      <td>600.0</td>\n",
       "      <td>0.049531</td>\n",
       "      <td>35089.01</td>\n",
       "      <td>35097.700</td>\n",
       "    </tr>\n",
       "    <tr>\n",
       "      <th>10654</th>\n",
       "      <td>2021-06-30 23:50:00</td>\n",
       "      <td>35045.44</td>\n",
       "      <td>35136.91</td>\n",
       "      <td>35136.91</td>\n",
       "      <td>35070.00</td>\n",
       "      <td>25.263494</td>\n",
       "      <td>600.0</td>\n",
       "      <td>0.103656</td>\n",
       "      <td>35106.39</td>\n",
       "      <td>35088.195</td>\n",
       "    </tr>\n",
       "    <tr>\n",
       "      <th>10655</th>\n",
       "      <td>2021-07-01 00:00:00</td>\n",
       "      <td>34931.08</td>\n",
       "      <td>35066.54</td>\n",
       "      <td>35060.00</td>\n",
       "      <td>34983.38</td>\n",
       "      <td>77.722460</td>\n",
       "      <td>600.0</td>\n",
       "      <td>0.246992</td>\n",
       "      <td>35070.00</td>\n",
       "      <td>35026.690</td>\n",
       "    </tr>\n",
       "  </tbody>\n",
       "</table>\n",
       "<p>10656 rows × 10 columns</p>\n",
       "</div>"
      ],
      "text/plain": [
       "                     time       low      high      open     close      volume  \\\n",
       "0     2021-04-18 00:05:00  60130.09  60402.72  60198.37  60315.23   42.677299   \n",
       "1     2021-04-18 00:15:00  60222.20  60437.97  60350.00  60251.43   25.500509   \n",
       "2     2021-04-18 00:25:00  59636.58  59905.51  59790.01  59657.21  161.398991   \n",
       "3     2021-04-18 00:35:00  59618.31  59843.56  59788.58  59666.24   58.546233   \n",
       "4     2021-04-18 00:45:00  59648.01  59830.00  59774.40  59741.14   45.561762   \n",
       "...                   ...       ...       ...       ...       ...         ...   \n",
       "10651 2021-06-30 23:20:00  35000.00  35060.23  35043.77  35016.94   21.670220   \n",
       "10652 2021-06-30 23:30:00  34986.34  35123.70  35013.01  35089.01   37.055510   \n",
       "10653 2021-06-30 23:40:00  35032.94  35118.32  35058.55  35106.39   20.494551   \n",
       "10654 2021-06-30 23:50:00  35045.44  35136.91  35136.91  35070.00   25.263494   \n",
       "10655 2021-07-01 00:00:00  34931.08  35066.54  35060.00  34983.38   77.722460   \n",
       "\n",
       "       lag_diff_time  lag_diff_price  shift_close       twap  \n",
       "0                NaN             NaN          NaN  60315.230  \n",
       "1              600.0        0.105778     60315.23  60283.330  \n",
       "2              600.0        0.986234     60251.43  59954.320  \n",
       "3              600.0        0.015136     59657.21  59661.725  \n",
       "4              600.0        0.125532     59666.24  59703.690  \n",
       "...              ...             ...          ...        ...  \n",
       "10651          600.0        0.220463     35094.31  35055.625  \n",
       "10652          600.0        0.205815     35016.94  35052.975  \n",
       "10653          600.0        0.049531     35089.01  35097.700  \n",
       "10654          600.0        0.103656     35106.39  35088.195  \n",
       "10655          600.0        0.246992     35070.00  35026.690  \n",
       "\n",
       "[10656 rows x 10 columns]"
      ]
     },
     "execution_count": 29,
     "metadata": {},
     "output_type": "execute_result"
    }
   ],
   "source": [
    "twap_base['shift_close'] = twap_base.close.shift(1)\n",
    "twap_base['twap'] = twap_base[['close', 'shift_close']].mean(axis=1)\n",
    "twap_base"
   ]
  },
  {
   "cell_type": "markdown",
   "metadata": {},
   "source": [
    "# Check pystable parameters"
   ]
  },
  {
   "cell_type": "code",
   "execution_count": 30,
   "metadata": {},
   "outputs": [],
   "source": [
    "def gaussian():\n",
    "    return pystable.create(alpha=2.0, beta=0.0, mu=0.0,\n",
    "                           sigma=1.0, parameterization=1)"
   ]
  },
  {
   "cell_type": "code",
   "execution_count": 32,
   "metadata": {},
   "outputs": [
    {
     "name": "stdout",
     "output_type": "stream",
     "text": [
      "\n",
      "    fit params: alpha: 1.4959595889065884, beta: 0.006997847419145277,\n",
      "    mu: -4.3246785316961904e-05, sigma: 0.00170585228144797\n",
      "    \n"
     ]
    }
   ],
   "source": [
    "# Distribution params of twap_base\n",
    "\n",
    "p = twap_base.twap.to_numpy()\n",
    "log_close = [np.log(p[i]/p[i-1]) for i in range(1, len(p))]\n",
    "\n",
    "dst = gaussian()  # use gaussian as init dist to fit from\n",
    "pystable.fit(dst, log_close, len(log_close))\n",
    "print(\n",
    "    f'''\n",
    "    fit params: alpha: {dst.contents.alpha}, beta: {dst.contents.beta},\n",
    "    mu: {dst.contents.mu_1}, sigma: {dst.contents.sigma}\n",
    "    '''\n",
    ")"
   ]
  },
  {
   "cell_type": "code",
   "execution_count": 33,
   "metadata": {},
   "outputs": [],
   "source": [
    "l = [i/100 for i in range(1, 100, 1)]\n",
    "p = pystable.q(dst, l, len(l))"
   ]
  },
  {
   "cell_type": "code",
   "execution_count": 34,
   "metadata": {},
   "outputs": [
    {
     "data": {
      "image/png": "[encoded data removed]",
      "text/plain": [
       "<Figure size 2500x1000 with 1 Axes>"
      ]
     },
     "metadata": {},
     "output_type": "display_data"
    }
   ],
   "source": [
    "plt.figure(figsize=(25,10))\n",
    "plt.plot(p, l, label='10 min TWAP')\n",
    "plt.legend(loc='upper left')\n",
    "plt.show()\n"
   ]
  },
  {
   "cell_type": "code",
   "execution_count": 35,
   "metadata": {},
   "outputs": [],
   "source": [
    "# Save data\n",
    "final_df = twap_base[(twap_base['time'] >= '2021-04-18 00:00:00')\n",
    "            & (twap_base['time'] <= '2021-07-01 00:00:00')][['time', 'twap']]\n",
    "final_df.to_csv('../../csv/BTCUSD-600-20210401-20210630.csv')"
   ]
  }
 ],
 "metadata": {
  "interpreter": {
   "hash": "1ac903f3b492886493f13b56d82e4e6407fdeec32f61d56a6fa30f0c9b933cef"
  },
  "kernelspec": {
   "display_name": "Python 3.9.7 64-bit ('overlay-risk-6ApXjLbl-py3.9': poetry)",
   "language": "python",
   "name": "python3"
  },
  "language_info": {
   "codemirror_mode": {
    "name": "ipython",
    "version": 3
   },
   "file_extension": ".py",
   "mimetype": "text/x-python",
   "name": "python",
   "nbconvert_exporter": "python",
   "pygments_lexer": "ipython3",
   "version": "3.9.13"
  },
  "orig_nbformat": 4
 },
 "nbformat": 4,
 "nbformat_minor": 2
}
