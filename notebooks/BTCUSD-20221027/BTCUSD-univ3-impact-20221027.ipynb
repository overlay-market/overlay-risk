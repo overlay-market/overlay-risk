{
 "cells": [
  {
   "cell_type": "code",
   "execution_count": 1,
   "id": "2322abab",
   "metadata": {},
   "outputs": [],
   "source": [
    "import pandas as pd"
   ]
  },
  {
   "cell_type": "code",
   "execution_count": 2,
   "id": "b617e733",
   "metadata": {},
   "outputs": [],
   "source": [
    "FILEPATH = \"../../csv/metrics/BTCUSD-600-20210401-20210630\""
   ]
  },
  {
   "cell_type": "code",
   "execution_count": 3,
   "id": "a453bdf3",
   "metadata": {},
   "outputs": [],
   "source": [
    "FILENAME_DELTAS = f\"{FILEPATH}-deltas.csv\"\n",
    "FILENAME_LAMBDAS = f\"{FILEPATH}-lambdas.csv\""
   ]
  },
  {
   "cell_type": "code",
   "execution_count": 4,
   "id": "81e97dfe",
   "metadata": {},
   "outputs": [
    {
     "data": {
      "text/html": [
       "<div>\n",
       "<style scoped>\n",
       "    .dataframe tbody tr th:only-of-type {\n",
       "        vertical-align: middle;\n",
       "    }\n",
       "\n",
       "    .dataframe tbody tr th {\n",
       "        vertical-align: top;\n",
       "    }\n",
       "\n",
       "    .dataframe thead th {\n",
       "        text-align: right;\n",
       "    }\n",
       "</style>\n",
       "<table border=\"1\" class=\"dataframe\">\n",
       "  <thead>\n",
       "    <tr style=\"text-align: right;\">\n",
       "      <th></th>\n",
       "      <th>alpha</th>\n",
       "      <th>delta</th>\n",
       "    </tr>\n",
       "  </thead>\n",
       "  <tbody>\n",
       "    <tr>\n",
       "      <th>0</th>\n",
       "      <td>0.010</td>\n",
       "      <td>0.006661</td>\n",
       "    </tr>\n",
       "    <tr>\n",
       "      <th>1</th>\n",
       "      <td>0.025</td>\n",
       "      <td>0.003855</td>\n",
       "    </tr>\n",
       "    <tr>\n",
       "      <th>2</th>\n",
       "      <td>0.050</td>\n",
       "      <td>0.002630</td>\n",
       "    </tr>\n",
       "    <tr>\n",
       "      <th>3</th>\n",
       "      <td>0.075</td>\n",
       "      <td>0.002106</td>\n",
       "    </tr>\n",
       "    <tr>\n",
       "      <th>4</th>\n",
       "      <td>0.100</td>\n",
       "      <td>0.001783</td>\n",
       "    </tr>\n",
       "  </tbody>\n",
       "</table>\n",
       "</div>"
      ],
      "text/plain": [
       "   alpha     delta\n",
       "0  0.010  0.006661\n",
       "1  0.025  0.003855\n",
       "2  0.050  0.002630\n",
       "3  0.075  0.002106\n",
       "4  0.100  0.001783"
      ]
     },
     "execution_count": 4,
     "metadata": {},
     "output_type": "execute_result"
    }
   ],
   "source": [
    "df_deltas = pd.read_csv(FILENAME_DELTAS)\n",
    "df_deltas"
   ]
  },
  {
   "cell_type": "code",
   "execution_count": 5,
   "id": "22db932c",
   "metadata": {},
   "outputs": [
    {
     "data": {
      "text/html": [
       "<div>\n",
       "<style scoped>\n",
       "    .dataframe tbody tr th:only-of-type {\n",
       "        vertical-align: middle;\n",
       "    }\n",
       "\n",
       "    .dataframe tbody tr th {\n",
       "        vertical-align: top;\n",
       "    }\n",
       "\n",
       "    .dataframe thead th {\n",
       "        text-align: right;\n",
       "    }\n",
       "</style>\n",
       "<table border=\"1\" class=\"dataframe\">\n",
       "  <thead>\n",
       "    <tr style=\"text-align: right;\">\n",
       "      <th></th>\n",
       "      <th>Unnamed: 0</th>\n",
       "      <th>q0=0.005</th>\n",
       "      <th>q0=0.01</th>\n",
       "      <th>q0=0.015</th>\n",
       "      <th>q0=0.02</th>\n",
       "      <th>q0=0.025</th>\n",
       "      <th>q0=0.03</th>\n",
       "      <th>q0=0.035</th>\n",
       "      <th>q0=0.04</th>\n",
       "      <th>q0=0.045</th>\n",
       "      <th>q0=0.05</th>\n",
       "    </tr>\n",
       "  </thead>\n",
       "  <tbody>\n",
       "    <tr>\n",
       "      <th>0</th>\n",
       "      <td>alpha=0.01</td>\n",
       "      <td>3.035023</td>\n",
       "      <td>1.517511</td>\n",
       "      <td>1.011674</td>\n",
       "      <td>0.758756</td>\n",
       "      <td>0.607005</td>\n",
       "      <td>0.505837</td>\n",
       "      <td>0.433575</td>\n",
       "      <td>0.379378</td>\n",
       "      <td>0.337225</td>\n",
       "      <td>0.303502</td>\n",
       "    </tr>\n",
       "    <tr>\n",
       "      <th>1</th>\n",
       "      <td>alpha=0.025</td>\n",
       "      <td>1.577171</td>\n",
       "      <td>0.788585</td>\n",
       "      <td>0.525724</td>\n",
       "      <td>0.394293</td>\n",
       "      <td>0.315434</td>\n",
       "      <td>0.262862</td>\n",
       "      <td>0.225310</td>\n",
       "      <td>0.197146</td>\n",
       "      <td>0.175241</td>\n",
       "      <td>0.157717</td>\n",
       "    </tr>\n",
       "    <tr>\n",
       "      <th>2</th>\n",
       "      <td>alpha=0.05</td>\n",
       "      <td>0.966006</td>\n",
       "      <td>0.483003</td>\n",
       "      <td>0.322002</td>\n",
       "      <td>0.241502</td>\n",
       "      <td>0.193201</td>\n",
       "      <td>0.161001</td>\n",
       "      <td>0.138001</td>\n",
       "      <td>0.120751</td>\n",
       "      <td>0.107334</td>\n",
       "      <td>0.096601</td>\n",
       "    </tr>\n",
       "    <tr>\n",
       "      <th>3</th>\n",
       "      <td>alpha=0.075</td>\n",
       "      <td>0.731508</td>\n",
       "      <td>0.365754</td>\n",
       "      <td>0.243836</td>\n",
       "      <td>0.182877</td>\n",
       "      <td>0.146302</td>\n",
       "      <td>0.121918</td>\n",
       "      <td>0.104501</td>\n",
       "      <td>0.091439</td>\n",
       "      <td>0.081279</td>\n",
       "      <td>0.073151</td>\n",
       "    </tr>\n",
       "    <tr>\n",
       "      <th>4</th>\n",
       "      <td>alpha=0.1</td>\n",
       "      <td>0.605654</td>\n",
       "      <td>0.302827</td>\n",
       "      <td>0.201885</td>\n",
       "      <td>0.151414</td>\n",
       "      <td>0.121131</td>\n",
       "      <td>0.100942</td>\n",
       "      <td>0.086522</td>\n",
       "      <td>0.075707</td>\n",
       "      <td>0.067295</td>\n",
       "      <td>0.060565</td>\n",
       "    </tr>\n",
       "  </tbody>\n",
       "</table>\n",
       "</div>"
      ],
      "text/plain": [
       "    Unnamed: 0  q0=0.005   q0=0.01  q0=0.015   q0=0.02  q0=0.025   q0=0.03  \\\n",
       "0   alpha=0.01  3.035023  1.517511  1.011674  0.758756  0.607005  0.505837   \n",
       "1  alpha=0.025  1.577171  0.788585  0.525724  0.394293  0.315434  0.262862   \n",
       "2   alpha=0.05  0.966006  0.483003  0.322002  0.241502  0.193201  0.161001   \n",
       "3  alpha=0.075  0.731508  0.365754  0.243836  0.182877  0.146302  0.121918   \n",
       "4    alpha=0.1  0.605654  0.302827  0.201885  0.151414  0.121131  0.100942   \n",
       "\n",
       "   q0=0.035   q0=0.04  q0=0.045   q0=0.05  \n",
       "0  0.433575  0.379378  0.337225  0.303502  \n",
       "1  0.225310  0.197146  0.175241  0.157717  \n",
       "2  0.138001  0.120751  0.107334  0.096601  \n",
       "3  0.104501  0.091439  0.081279  0.073151  \n",
       "4  0.086522  0.075707  0.067295  0.060565  "
      ]
     },
     "execution_count": 5,
     "metadata": {},
     "output_type": "execute_result"
    }
   ],
   "source": [
    "df_lambdas = pd.read_csv(FILENAME_LAMBDAS)\n",
    "df_lambdas"
   ]
  },
  {
   "cell_type": "code",
   "execution_count": null,
   "id": "4cd18027",
   "metadata": {},
   "outputs": [],
   "source": []
  }
 ],
 "metadata": {
  "interpreter": {
   "hash": "1ac903f3b492886493f13b56d82e4e6407fdeec32f61d56a6fa30f0c9b933cef"
  },
  "kernelspec": {
   "display_name": "Python 3.9.7 64-bit ('overlay-risk-6ApXjLbl-py3.9': poetry)",
   "language": "python",
   "name": "python3"
  },
  "language_info": {
   "codemirror_mode": {
    "name": "ipython",
    "version": 3
   },
   "file_extension": ".py",
   "mimetype": "text/x-python",
   "name": "python",
   "nbconvert_exporter": "python",
   "pygments_lexer": "ipython3",
   "version": "3.9.13"
  }
 },
 "nbformat": 4,
 "nbformat_minor": 5
}
